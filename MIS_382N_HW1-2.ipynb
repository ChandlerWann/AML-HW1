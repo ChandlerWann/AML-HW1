{
 "cells": [
  {
   "cell_type": "markdown",
   "metadata": {
    "id": "evHVxwk2JA-3"
   },
   "source": [
    "# <p style=\"text-align: center;\">MIS 382N: Advanced Machine Learning</p>\n",
    "# <p style=\"text-align: center;\">Homework 1</p>\n",
    "## <p style=\"text-align: center;\">Total points: 55</p>\n",
    "## <p style=\"text-align: center;\">Due: Wednesday, Sep 8 submitted via Canvas by 11:59 pm</p>\n",
    "\n",
    "Your homework should be written in a **Jupyter notebook**. Please make sure your code runs and the graphics (and anything else) are displayed in your notebook before submitting (%matplotlib inline). **This can be an individual assignment or group of 2. If you choose to do it as a group, please specify who you are working with (name and EID), then only one student should submit the homework.**\n",
    "\n",
    "**Note: Notebooks MUST have the images embedded in them. There will be no regrades if attached images do not render in the notebook. Please re download from canvas after submission and make sure all attached images render without errors. (Hint: Image module from IPython.display)**"
   ]
  },
  {
   "cell_type": "markdown",
   "metadata": {
    "id": "0eTfjKUv7_Yo"
   },
   "source": []
  },
  {
   "cell_type": "markdown",
   "metadata": {
    "id": "TWWU_gOSLEEv"
   },
   "source": [
    "# Question 1: MLOps (10 pts)\n",
    "Read this [article](https://towardsdatascience.com/what-is-mlops-everything-you-must-know-to-get-started-523f2d0b8bd8) \"What is MLOps — Everything You Must Know to Get Started\", which gives a quick walkthrough of the machine learning development lifecycle and explains how MLOps come into play, or watch this [video](https://www.youtube.com/watch?v=06-AZXmwHjo) which you may find interesting.\n",
    "\n",
    "1. (**4 pts**) Use your own words to describe what MLOps is, and what challenges MLOps address. Limit your answer to one paragraph.\n",
    "\n",
    "2. (**6 pts**) Describe what the main phases in MLOps are. Your answer should be 2-3 paragraphs.\n",
    "\n",
    "\n",
    "## Answer:\n",
    "MLOPS is a combination of machine learning systems development and machine learning systems deployment. \n",
    "    This means that ML Ops is the entire life cycle of a data science project. It begins with the \n",
    "    business problem, then evolves into the data processing, the machine learning code, and finally, \n",
    "    the deployment. So, ML Ops is the complete business procedure of any data science project within an \n",
    "    organization. Each step is vital towards solving whatever business problem a company may have with machine learning.\n",
    "    The challenges ML Ops tries to address are, reflecting changing business objectives, communication gaps, \n",
    "    and risk assessment. changes to business objectives are addressed by continuously returning to the start of \n",
    "    the ML Ops cycle to ensure that the ML code that is ran is constantly evolving with the data and the business \n",
    "    problem. Second, communication gaps between technical and business teams need to be mitigated by including team \n",
    "    members who have experience on both sides of the spectrum. Finally, risk assessment enables businesses to ensure \n",
    "    that a failure in their ML prediction would not be to harmful for the company. \n",
    "\n",
    "   The main phases of MLOps are framing a ML problem from business objectives, \n",
    "    architect ML and data solutions for the problem, data preparation and processing, \n",
    "    and Model training and experimentation. The first step is framing a ML problem from\n",
    "    a business objective. In this step the business needs to determine what their goal is.\n",
    "    It is often important to include Key Performance Indicators to help the computer make decisions \n",
    "    in the later steps. The second step is architect ML and data solutions for the problem. In this step the team \n",
    "    finds and evaluates the data that they could potentially use for the problem. Then they answer simple questions \n",
    "    like what cloud service should be used to determine how they will begin the next step. The next step, data \n",
    "    preparation and processing is when we get to cleaning the data. Simply data engineers format the data, check for \n",
    "    outliers, imputate and rebalance the data. Finally, when all of this is done, the data scientists train and \n",
    "    experiment on the new data. In this step the data scientists re run code until they get a the best solution using \n",
    "    different quantitative measures.\n"
   ]
  },
  {
   "cell_type": "markdown",
   "metadata": {
    "id": "wusA9L1LmUMH"
   },
   "source": [
    "# Question 2: Applications of Machine Learning (5 pts)\n",
    "Read this [article](https://builtin.com/data-science/data-science-applications-examples) \"17 Data Science Applications & Examples\" and pick one of the data science systems used by various organizations according to this blog. \n",
    "\n",
    "For this system you have chosen, answer the following questions. Please limit your answer to one paragraph:IRS Tax Evasion\n",
    "\n",
    "1. What kind of machine learning problem is involved (e.g. classification, regression, clustering, outlier detection,...) in this system?\n",
    "\n",
    "2. Speculate on what kind of data may be needed and how the results can be useful to the organization.\n",
    "\n",
    "3. What do you think are the ethical implications of using machine learning in a domain like this?\n",
    "\n",
    "## Answer:\n",
    "This system takes many variables: spending, social media, and others to predict the estimated cost of this years taxes. Any tax filings that are wildly different from the regression analysis will get audited. Therefore, the IRS will monitor certain spending habits. Looking at major purchases or bank statements would be difficult, I wonder if they are able to look at your bank statements. The article states that the IRS is able to grab data electronic payment patterns, which is concerning. Using social media to montor a person for large purchases would be simple if someone is inclined to show off a new car or house. Again, I am not sure how they know who has which account on social media, even if it is a public account. This broaches an interesting subject about how involved the IRS is in our lives. Using machine learning seems to be helping solve tax fraud, but at the cost of our privacy. The costs do not seem to outweigh the benefits. Being able to research an individual on social media and look inside their bank account seems like a severly unethical approach to finding people who cheat on their taxes. "
   ]
  },
  {
   "cell_type": "markdown",
   "metadata": {
    "id": "2w8za9lLmVO7"
   },
   "source": [
    "# Question 3: Simpson's Paradox (10 pts)\n",
    "A data scientist should be careful about drawing unwarranted conclusions about any data that is presented. One of the 'gotchas' that can happen even in apparently very simple tabular summaries, is called Simpson's paradox.\n",
    "\n",
    "Read this [article](https://www.covid-datascience.com/post/israeli-data-how-can-efficacy-vs-severe-disease-be-strong-when-60-of-hospitalized-are-vaccinated), which explains why the computed efficacy of the Pfizer vaccine is misleadingly low (67.5%) when you lump all people together, but once you stratify people by age (which is the right thing to do), you get much higher efficacy numbers.\n",
    "\n",
    "1.(**5 pts**) Explain in your own words what Simpson's paradox is, and how this 'paradox' can happen in real data.\n",
    "\n",
    "2.(**5 pts**) Find and mention another example of Simpson's paradox (but not any of the 3 examples given in the Wikipedia entry for 'Simpson's paradox'), state why the paradox appeared in your chosen example. Also give a reference (URL) to your source for the chosen example.\n",
    "\n",
    "## Answer:\n",
    "Simpson's paradox usually occurs when we have a survey of binary inputs from two sources on two different occasions. On both occasions one source seems to have more positive outcomes thus having a greater ratio of success to failure on both occasions. However, due to the different count for each source on each occasion, we see that the total ratio actually favors the second source. What happens is we see on the first occasion a higher score for both. However, the source with the higher score will usually have a lower count. Then in the second occasion we will see a lower score where the one with the higher score will have a higher count. So, when you total out the scores you find that even though one of the sources had a better score on both occasions, their total score will come out to be lower.\n",
    "https://brilliant.org/wiki/simpsons-paradox/#:~:text=In%20fact%2C%20one%20realworld%20example%20of%20Simpson%27s%20paradox,no%20college%20education%2C%20college%20education%2C%20and%20Bachelor%2Fhigher%20degree. \n",
    "The example I provided shows two students who worked on an assignment on two days, Saturday and Sunday. I scored 7/8 or 87.5% on Saturday while my friend got 2/2 or 100%. Then on Sunday I got 1/2 or 50% and my friend got 5/8 or 62.5%. However, our totals came out to 80% and 70%. As you can see I received a lower score on both days, but still managed to receive a higher total score. This is due to the difference in weighting between the days, and it is a great example of Simpson's paradox.\n",
    "Simpson's Paradox | Brilliant Math & Science Wiki\n",
    "Simpson's paradox occurs when groups of data show one particular trend, but this trend is reversed when the groups are combined together. Understanding and identifying this paradox is important for...\n",
    "\n"
   ]
  },
  {
   "cell_type": "markdown",
   "metadata": {
    "id": "gth0D8jiMBSe"
   },
   "source": [
    "# Question 4: Ridge and Lasso Regression (30 pts)\n",
    "\n",
    "Download the dataset **Admission.csv** from Canvas and use the following codes to import the Admission dataset in Python. \n",
    "\n",
    "There are 7 features in the dataset:\n",
    "\n",
    "1. GRE score\n",
    "2. TOEFL score\n",
    "3. University Rating\n",
    "4. SOP(Statement of Purpose)\n",
    "5. LOR(Letter of Recommendation)\n",
    "6. CGPA\n",
    "7. Research\n",
    "\n",
    "And the target is **Chance of Admission**."
   ]
  },
  {
   "cell_type": "code",
   "execution_count": 1,
   "metadata": {
    "id": "QFazlpLgGpAa"
   },
   "outputs": [
    {
     "ename": "ModuleNotFoundError",
     "evalue": "No module named 'google.colab'",
     "output_type": "error",
     "traceback": [
      "\u001b[1;31m---------------------------------------------------------------------------\u001b[0m",
      "\u001b[1;31mModuleNotFoundError\u001b[0m                       Traceback (most recent call last)",
      "\u001b[1;32m<ipython-input-1-25e79b7f35f7>\u001b[0m in \u001b[0;36m<module>\u001b[1;34m\u001b[0m\n\u001b[0;32m      1\u001b[0m \u001b[1;31m# Only use this code block if you are using Google Colab.\u001b[0m\u001b[1;33m\u001b[0m\u001b[1;33m\u001b[0m\u001b[1;33m\u001b[0m\u001b[0m\n\u001b[0;32m      2\u001b[0m \u001b[1;31m# If you are using Jupyter Notebook, please ignore this code block. You can directly upload the file to your Jupyter Notebook file systems.\u001b[0m\u001b[1;33m\u001b[0m\u001b[1;33m\u001b[0m\u001b[1;33m\u001b[0m\u001b[0m\n\u001b[1;32m----> 3\u001b[1;33m \u001b[1;32mfrom\u001b[0m \u001b[0mgoogle\u001b[0m\u001b[1;33m.\u001b[0m\u001b[0mcolab\u001b[0m \u001b[1;32mimport\u001b[0m \u001b[0mfiles\u001b[0m\u001b[1;33m\u001b[0m\u001b[1;33m\u001b[0m\u001b[0m\n\u001b[0m\u001b[0;32m      4\u001b[0m \u001b[1;33m\u001b[0m\u001b[0m\n\u001b[0;32m      5\u001b[0m \u001b[1;31m## It will prompt you to select a local file. Click on “Choose Files” then select and upload the file.\u001b[0m\u001b[1;33m\u001b[0m\u001b[1;33m\u001b[0m\u001b[1;33m\u001b[0m\u001b[0m\n",
      "\u001b[1;31mModuleNotFoundError\u001b[0m: No module named 'google.colab'"
     ]
    }
   ],
   "source": [
    "# Only use this code block if you are using Google Colab.\n",
    "# If you are using Jupyter Notebook, please ignore this code block. You can directly upload the file to your Jupyter Notebook file systems.\n",
    "from google.colab import files\n",
    "\n",
    "## It will prompt you to select a local file. Click on “Choose Files” then select and upload the file. \n",
    "## Wait for the file to be 100% uploaded. You should see the name of the file once Colab has uploaded it.\n",
    "uploaded = files.upload()"
   ]
  },
  {
   "cell_type": "code",
   "execution_count": 2,
   "metadata": {
    "id": "xsPaOOehGuU6"
   },
   "outputs": [],
   "source": [
    "# imports\n",
    "import numpy as np\n",
    "import pandas as pd\n",
    "import random\n",
    "from sklearn import linear_model\n",
    "from sklearn.metrics import mean_absolute_error, mean_squared_error\n",
    "from sklearn.linear_model import LogisticRegression\n",
    "\n",
    "## Load dataset into pandas DataFrame\n",
    "df = pd.read_csv('Admission.csv', index_col=0)\n",
    "df = df.replace([np.inf, -np.inf], np.nan) # \n",
    "df = df.fillna(0) # Replace all the NaN values with 0"
   ]
  },
  {
   "cell_type": "code",
   "execution_count": 3,
   "metadata": {
    "id": "PmMz72U6Gv-z"
   },
   "outputs": [
    {
     "data": {
      "text/plain": [
       "Index(['GRE_Score', 'TOEFL_Score', 'University_Rating', 'SOP', 'LOR ', 'CGPA',\n",
       "       'Research', 'Chance_of_Admit'],\n",
       "      dtype='object')"
      ]
     },
     "execution_count": 3,
     "metadata": {},
     "output_type": "execute_result"
    }
   ],
   "source": [
    "df.columns # Show you all the columns in this file"
   ]
  },
  {
   "cell_type": "code",
   "execution_count": 4,
   "metadata": {
    "id": "CyZN-yFfGxlt"
   },
   "outputs": [
    {
     "data": {
      "text/html": [
       "<div>\n",
       "<style scoped>\n",
       "    .dataframe tbody tr th:only-of-type {\n",
       "        vertical-align: middle;\n",
       "    }\n",
       "\n",
       "    .dataframe tbody tr th {\n",
       "        vertical-align: top;\n",
       "    }\n",
       "\n",
       "    .dataframe thead th {\n",
       "        text-align: right;\n",
       "    }\n",
       "</style>\n",
       "<table border=\"1\" class=\"dataframe\">\n",
       "  <thead>\n",
       "    <tr style=\"text-align: right;\">\n",
       "      <th></th>\n",
       "      <th>GRE_Score</th>\n",
       "      <th>TOEFL_Score</th>\n",
       "      <th>University_Rating</th>\n",
       "      <th>SOP</th>\n",
       "      <th>LOR</th>\n",
       "      <th>CGPA</th>\n",
       "      <th>Research</th>\n",
       "      <th>Chance_of_Admit</th>\n",
       "    </tr>\n",
       "    <tr>\n",
       "      <th>Serial No.</th>\n",
       "      <th></th>\n",
       "      <th></th>\n",
       "      <th></th>\n",
       "      <th></th>\n",
       "      <th></th>\n",
       "      <th></th>\n",
       "      <th></th>\n",
       "      <th></th>\n",
       "    </tr>\n",
       "  </thead>\n",
       "  <tbody>\n",
       "    <tr>\n",
       "      <th>1</th>\n",
       "      <td>337</td>\n",
       "      <td>118</td>\n",
       "      <td>4</td>\n",
       "      <td>4.5</td>\n",
       "      <td>4.5</td>\n",
       "      <td>9.65</td>\n",
       "      <td>1</td>\n",
       "      <td>0.92</td>\n",
       "    </tr>\n",
       "    <tr>\n",
       "      <th>2</th>\n",
       "      <td>324</td>\n",
       "      <td>107</td>\n",
       "      <td>4</td>\n",
       "      <td>4.0</td>\n",
       "      <td>4.5</td>\n",
       "      <td>8.87</td>\n",
       "      <td>1</td>\n",
       "      <td>0.76</td>\n",
       "    </tr>\n",
       "    <tr>\n",
       "      <th>3</th>\n",
       "      <td>316</td>\n",
       "      <td>104</td>\n",
       "      <td>3</td>\n",
       "      <td>3.0</td>\n",
       "      <td>3.5</td>\n",
       "      <td>8.00</td>\n",
       "      <td>1</td>\n",
       "      <td>0.72</td>\n",
       "    </tr>\n",
       "    <tr>\n",
       "      <th>4</th>\n",
       "      <td>322</td>\n",
       "      <td>110</td>\n",
       "      <td>3</td>\n",
       "      <td>3.5</td>\n",
       "      <td>2.5</td>\n",
       "      <td>8.67</td>\n",
       "      <td>1</td>\n",
       "      <td>0.80</td>\n",
       "    </tr>\n",
       "    <tr>\n",
       "      <th>5</th>\n",
       "      <td>314</td>\n",
       "      <td>103</td>\n",
       "      <td>2</td>\n",
       "      <td>2.0</td>\n",
       "      <td>3.0</td>\n",
       "      <td>8.21</td>\n",
       "      <td>0</td>\n",
       "      <td>0.65</td>\n",
       "    </tr>\n",
       "  </tbody>\n",
       "</table>\n",
       "</div>"
      ],
      "text/plain": [
       "            GRE_Score  TOEFL_Score  University_Rating  SOP  LOR   CGPA  \\\n",
       "Serial No.                                                               \n",
       "1                 337          118                  4  4.5   4.5  9.65   \n",
       "2                 324          107                  4  4.0   4.5  8.87   \n",
       "3                 316          104                  3  3.0   3.5  8.00   \n",
       "4                 322          110                  3  3.5   2.5  8.67   \n",
       "5                 314          103                  2  2.0   3.0  8.21   \n",
       "\n",
       "            Research  Chance_of_Admit  \n",
       "Serial No.                             \n",
       "1                  1             0.92  \n",
       "2                  1             0.76  \n",
       "3                  1             0.72  \n",
       "4                  1             0.80  \n",
       "5                  0             0.65  "
      ]
     },
     "execution_count": 4,
     "metadata": {},
     "output_type": "execute_result"
    }
   ],
   "source": [
    "df.head() # Show you the first 5 rows in this file"
   ]
  },
  {
   "cell_type": "code",
   "execution_count": 5,
   "metadata": {},
   "outputs": [
    {
     "data": {
      "text/html": [
       "<div>\n",
       "<style scoped>\n",
       "    .dataframe tbody tr th:only-of-type {\n",
       "        vertical-align: middle;\n",
       "    }\n",
       "\n",
       "    .dataframe tbody tr th {\n",
       "        vertical-align: top;\n",
       "    }\n",
       "\n",
       "    .dataframe thead th {\n",
       "        text-align: right;\n",
       "    }\n",
       "</style>\n",
       "<table border=\"1\" class=\"dataframe\">\n",
       "  <thead>\n",
       "    <tr style=\"text-align: right;\">\n",
       "      <th></th>\n",
       "      <th>GRE_Score</th>\n",
       "      <th>TOEFL_Score</th>\n",
       "      <th>University_Rating</th>\n",
       "      <th>SOP</th>\n",
       "      <th>LOR</th>\n",
       "      <th>CGPA</th>\n",
       "      <th>Research</th>\n",
       "      <th>Chance_of_Admit</th>\n",
       "    </tr>\n",
       "    <tr>\n",
       "      <th>Serial No.</th>\n",
       "      <th></th>\n",
       "      <th></th>\n",
       "      <th></th>\n",
       "      <th></th>\n",
       "      <th></th>\n",
       "      <th></th>\n",
       "      <th></th>\n",
       "      <th></th>\n",
       "    </tr>\n",
       "  </thead>\n",
       "  <tbody>\n",
       "    <tr>\n",
       "      <th>1</th>\n",
       "      <td>337</td>\n",
       "      <td>118</td>\n",
       "      <td>4</td>\n",
       "      <td>4.5</td>\n",
       "      <td>4.5</td>\n",
       "      <td>9.65</td>\n",
       "      <td>1</td>\n",
       "      <td>0.92</td>\n",
       "    </tr>\n",
       "    <tr>\n",
       "      <th>2</th>\n",
       "      <td>324</td>\n",
       "      <td>107</td>\n",
       "      <td>4</td>\n",
       "      <td>4.0</td>\n",
       "      <td>4.5</td>\n",
       "      <td>8.87</td>\n",
       "      <td>1</td>\n",
       "      <td>0.76</td>\n",
       "    </tr>\n",
       "    <tr>\n",
       "      <th>3</th>\n",
       "      <td>316</td>\n",
       "      <td>104</td>\n",
       "      <td>3</td>\n",
       "      <td>3.0</td>\n",
       "      <td>3.5</td>\n",
       "      <td>8.00</td>\n",
       "      <td>1</td>\n",
       "      <td>0.72</td>\n",
       "    </tr>\n",
       "    <tr>\n",
       "      <th>4</th>\n",
       "      <td>322</td>\n",
       "      <td>110</td>\n",
       "      <td>3</td>\n",
       "      <td>3.5</td>\n",
       "      <td>2.5</td>\n",
       "      <td>8.67</td>\n",
       "      <td>1</td>\n",
       "      <td>0.80</td>\n",
       "    </tr>\n",
       "    <tr>\n",
       "      <th>5</th>\n",
       "      <td>314</td>\n",
       "      <td>103</td>\n",
       "      <td>2</td>\n",
       "      <td>2.0</td>\n",
       "      <td>3.0</td>\n",
       "      <td>8.21</td>\n",
       "      <td>0</td>\n",
       "      <td>0.65</td>\n",
       "    </tr>\n",
       "    <tr>\n",
       "      <th>6</th>\n",
       "      <td>330</td>\n",
       "      <td>115</td>\n",
       "      <td>5</td>\n",
       "      <td>4.5</td>\n",
       "      <td>3.0</td>\n",
       "      <td>9.34</td>\n",
       "      <td>1</td>\n",
       "      <td>0.90</td>\n",
       "    </tr>\n",
       "    <tr>\n",
       "      <th>7</th>\n",
       "      <td>321</td>\n",
       "      <td>109</td>\n",
       "      <td>3</td>\n",
       "      <td>3.0</td>\n",
       "      <td>4.0</td>\n",
       "      <td>8.20</td>\n",
       "      <td>1</td>\n",
       "      <td>0.75</td>\n",
       "    </tr>\n",
       "    <tr>\n",
       "      <th>8</th>\n",
       "      <td>308</td>\n",
       "      <td>101</td>\n",
       "      <td>2</td>\n",
       "      <td>3.0</td>\n",
       "      <td>4.0</td>\n",
       "      <td>7.90</td>\n",
       "      <td>0</td>\n",
       "      <td>0.68</td>\n",
       "    </tr>\n",
       "    <tr>\n",
       "      <th>9</th>\n",
       "      <td>302</td>\n",
       "      <td>102</td>\n",
       "      <td>1</td>\n",
       "      <td>2.0</td>\n",
       "      <td>1.5</td>\n",
       "      <td>8.00</td>\n",
       "      <td>0</td>\n",
       "      <td>0.50</td>\n",
       "    </tr>\n",
       "    <tr>\n",
       "      <th>10</th>\n",
       "      <td>323</td>\n",
       "      <td>108</td>\n",
       "      <td>3</td>\n",
       "      <td>3.5</td>\n",
       "      <td>3.0</td>\n",
       "      <td>8.60</td>\n",
       "      <td>0</td>\n",
       "      <td>0.45</td>\n",
       "    </tr>\n",
       "  </tbody>\n",
       "</table>\n",
       "</div>"
      ],
      "text/plain": [
       "            GRE_Score  TOEFL_Score  University_Rating  SOP  LOR   CGPA  \\\n",
       "Serial No.                                                               \n",
       "1                 337          118                  4  4.5   4.5  9.65   \n",
       "2                 324          107                  4  4.0   4.5  8.87   \n",
       "3                 316          104                  3  3.0   3.5  8.00   \n",
       "4                 322          110                  3  3.5   2.5  8.67   \n",
       "5                 314          103                  2  2.0   3.0  8.21   \n",
       "6                 330          115                  5  4.5   3.0  9.34   \n",
       "7                 321          109                  3  3.0   4.0  8.20   \n",
       "8                 308          101                  2  3.0   4.0  7.90   \n",
       "9                 302          102                  1  2.0   1.5  8.00   \n",
       "10                323          108                  3  3.5   3.0  8.60   \n",
       "\n",
       "            Research  Chance_of_Admit  \n",
       "Serial No.                             \n",
       "1                  1             0.92  \n",
       "2                  1             0.76  \n",
       "3                  1             0.72  \n",
       "4                  1             0.80  \n",
       "5                  0             0.65  \n",
       "6                  1             0.90  \n",
       "7                  1             0.75  \n",
       "8                  0             0.68  \n",
       "9                  0             0.50  \n",
       "10                 0             0.45  "
      ]
     },
     "execution_count": 5,
     "metadata": {},
     "output_type": "execute_result"
    }
   ],
   "source": [
    "df[:10]"
   ]
  },
  {
   "cell_type": "code",
   "execution_count": 6,
   "metadata": {
    "id": "S3TfR0i4G2rO"
   },
   "outputs": [],
   "source": [
    "y = df['Chance_of_Admit'] # The column named Chance_of_Admit is used as the target, and we store it in y\n",
    "X = df.drop(['Chance_of_Admit'], axis=1) # We keep the remaining columns as the features, and store them in x"
   ]
  },
  {
   "cell_type": "markdown",
   "metadata": {
    "id": "pKq1KERxJw9y"
   },
   "source": [
    "1)(**2 pts**) Split the data into a training set(75% of data) and a test set(25% of data), using the [train_test_split](https://scikit-learn.org/stable/modules/generated/sklearn.model_selection.train_test_split.html) function with random_state = 50. Then scale the data (not including target) so that each of the independent variables would have zero mean and unit variance. You can use the [sklearn.preprocessing.scale](https://scikit-learn.org/stable/modules/generated/sklearn.preprocessing.scale.html) function for this. Print the first 5 rows of the training set after scaling.\n",
    "\n",
    "2)(**5 pts**) Use [sklearn.linear_model.Lasso](https://scikit-learn.org/stable/modules/generated/sklearn.linear_model.Lasso.html) and [sklearn.linear_model.Ridge](https://scikit-learn.org/stable/modules/generated/sklearn.linear_model.Ridge.html) classes to do a **5-fold** cross validation using sklearn's KFold. For the sweep of the regularization parameter, we will look at a grid of values ranging from α=10^10 to α=10^−6. In Python, you can consider this range of values as follows: alpha = 10**numpy.linspace(6,-6,100) \n",
    "so that you can generate 100 uniform values between -6 to 6 as power series.\n",
    "\n",
    "Fit the 2 regression models with scaled data and report the best chosen **α** based on cross validation as well as the corresponding scoring metric. The cross validation should happen on your training data using **MSE** as the scoring metric.\n",
    "\n",
    "3)(**5 pts**) Run ridge and lasso regression for all of the **α** specified above (on training data), and plot the coefficients learned for each of them - there should be one plot each for lasso and ridge, so a total of two plots; different features' weights of each model should be on the same plot with different colors (3pts). \n",
    "\n",
    "What do you qualitatively observe when the value of the regularization parameter changes (2pts)? \n",
    "\n",
    "4)(**3 pts**) Take the exponential of Y_train as the target, and fit the 2 regression models again. Report the best chosen **α** based on cross validation as well as the corresponding scoring metric. Compare the results of using the original target with the results of using the exponential of the target. What do you observe? \n",
    "\n",
    "5)(**5 pts**) Similarly, use [sklearn.linear_model.ElasticNet](https://scikit-learn.org/stable/modules/generated/sklearn.linear_model.ElasticNet.html) to do linear regression with different **α** values, and plot the coefficients learned for each of them (2pts). Observe the plot, then explain the pros and cons of ridge, lasso and Elastic Net models (3pts).\n",
    "\n",
    "\n",
    "6)(**5 pts**) Run the following three regression models with **MSE** loss on the training data: \n",
    "\n",
    "a. linear regression without regularization (1pts)\n",
    "\n",
    "b. linear regression with ridge regularization (2pts)\n",
    "\n",
    "c. linear regression with lasso regularization (2pts)\n",
    "\n",
    "For part (b) and (c), use only the best regularization parameters. Report the MSE and R<sup>2</sup> on the test data for each model.\n",
    "\n",
    "7)(**5 pts**) Train the 3 models and report the metrics with the original data without scaling (3pts). \n",
    "\n",
    "Why do we need to scale the data before regularization (2pts)? \n",
    "\n",
    "## Answer:\n"
   ]
  },
  {
   "cell_type": "markdown",
   "metadata": {},
   "source": [
    "# 1"
   ]
  },
  {
   "cell_type": "code",
   "execution_count": 7,
   "metadata": {},
   "outputs": [
    {
     "name": "stdout",
     "output_type": "stream",
     "text": [
      "Populating the interactive namespace from numpy and matplotlib\n"
     ]
    },
    {
     "name": "stderr",
     "output_type": "stream",
     "text": [
      "C:\\Users\\chand\\Anaconda3\\lib\\site-packages\\IPython\\core\\magics\\pylab.py:159: UserWarning: pylab import has clobbered these variables: ['random']\n",
      "`%matplotlib` prevents importing * from pylab and numpy\n",
      "  warn(\"pylab import has clobbered these variables: %s\"  % clobbered +\n"
     ]
    }
   ],
   "source": [
    "# imports\n",
    "from patsy import dmatrices\n",
    "%pylab inline\n",
    "from sklearn.model_selection import train_test_split\n",
    "import sklearn\n",
    "\n",
    "\n",
    "# Create a train and test set\n",
    "X_train, X_test, y_train, y_test = train_test_split(X,y, test_size = 0.25, random_state=50)\n",
    "\n",
    "# scale the train and test set\n",
    "X_train_scaled = sklearn.preprocessing.scale(X_train,axis = 0, with_std = True)\n",
    "X_test_scaled = sklearn.preprocessing.scale(X_test,axis = 0, with_std = True)\n",
    "\n"
   ]
  },
  {
   "cell_type": "code",
   "execution_count": null,
   "metadata": {},
   "outputs": [],
   "source": []
  },
  {
   "cell_type": "code",
   "execution_count": 8,
   "metadata": {},
   "outputs": [
    {
     "data": {
      "text/plain": [
       "array([[ 1.52725374,  2.0917706 ,  1.61594354,  0.63150829,  1.72829095,\n",
       "         2.11370277,  0.90453403],\n",
       "       [ 0.74180896,  0.46308859, -0.9310778 , -0.35266047, -1.04140609,\n",
       "         0.29488827,  0.90453403],\n",
       "       [ 0.56726568,  0.13735218,  1.61594354,  0.63150829,  0.62041214,\n",
       "         0.26211684,  0.90453403],\n",
       "       [-0.39272239, -0.51412062, -0.08207069,  0.13942391,  0.62041214,\n",
       "        -0.80295471, -1.1055416 ],\n",
       "       [ 0.47999403,  0.78882499,  0.76693642,  1.12359267,  1.17435154,\n",
       "         1.11417408,  0.90453403]])"
      ]
     },
     "execution_count": 8,
     "metadata": {},
     "output_type": "execute_result"
    }
   ],
   "source": [
    "\n",
    "## scaled training shown\n",
    "X_train_scaled[:5]"
   ]
  },
  {
   "cell_type": "markdown",
   "metadata": {},
   "source": [
    "# 2"
   ]
  },
  {
   "cell_type": "code",
   "execution_count": 9,
   "metadata": {},
   "outputs": [],
   "source": [
    "#imports\n",
    "from sklearn.model_selection import KFold\n",
    "from sklearn.linear_model import Ridge"
   ]
  },
  {
   "cell_type": "code",
   "execution_count": 10,
   "metadata": {},
   "outputs": [],
   "source": [
    "# KFold for crossvalidation\n",
    "cv= KFold(n_splits=5, random_state=50, shuffle= True)\n",
    "#model = Ridge Regression\n",
    "model = Ridge(alpha=.1)"
   ]
  },
  {
   "cell_type": "code",
   "execution_count": 11,
   "metadata": {},
   "outputs": [
    {
     "data": {
      "text/plain": [
       "Ridge(alpha=0.1)"
      ]
     },
     "execution_count": 11,
     "metadata": {},
     "output_type": "execute_result"
    }
   ],
   "source": [
    "#imports\n",
    "import numpy as np\n",
    "from sklearn.linear_model import RidgeClassifierCV\n",
    "from sklearn.model_selection import KFold\n",
    "from sklearn.model_selection import cross_val_score\n",
    "\n",
    "###########################################\n",
    "########## Ridge Regression\n",
    "###########################################\n",
    "# Ridge Model with an alpha of 0.1\n",
    "clf = Ridge(alpha=.1)\n",
    "# Fit the model\n",
    "clf.fit(X_train_scaled, y_train)\n"
   ]
  },
  {
   "cell_type": "code",
   "execution_count": 12,
   "metadata": {},
   "outputs": [
    {
     "data": {
      "text/plain": [
       "KFold(n_splits=5, random_state=50, shuffle=True)"
      ]
     },
     "execution_count": 12,
     "metadata": {},
     "output_type": "execute_result"
    }
   ],
   "source": [
    "cv"
   ]
  },
  {
   "cell_type": "code",
   "execution_count": 13,
   "metadata": {},
   "outputs": [
    {
     "data": {
      "text/plain": [
       "0.004010920171881609"
      ]
     },
     "execution_count": 13,
     "metadata": {},
     "output_type": "execute_result"
    }
   ],
   "source": [
    "from sklearn.metrics import make_scorer\n",
    "# sets the model and grabs the cross validation MSE\n",
    "clf = Ridge(alpha=.1)\n",
    "clf.fit(X_train_scaled, y_train)\n",
    "score = cross_val_score(model, X_train_scaled, y_train, scoring = make_scorer(mean_squared_error), cv=cv)\n",
    "mean(score)"
   ]
  },
  {
   "cell_type": "code",
   "execution_count": null,
   "metadata": {},
   "outputs": [],
   "source": []
  },
  {
   "cell_type": "code",
   "execution_count": null,
   "metadata": {},
   "outputs": [],
   "source": []
  },
  {
   "cell_type": "code",
   "execution_count": 14,
   "metadata": {},
   "outputs": [],
   "source": [
    "# set the alphas\n",
    "linspace=10**np.linspace(6,-6,100)"
   ]
  },
  {
   "cell_type": "code",
   "execution_count": 15,
   "metadata": {},
   "outputs": [],
   "source": [
    "# fill a dictionary with key MSE and value alpha\n",
    "from sklearn.linear_model import Lasso\n",
    "my_dict={ }\n",
    "for a in linspace:\n",
    "    clf = Ridge(alpha=a)\n",
    "    clf.fit(X_train_scaled, y_train)\n",
    "    score = cross_val_score(clf, X_train_scaled, y_train, scoring = make_scorer(mean_squared_error), cv=cv)\n",
    "    my_dict[mean(score)] = a\n",
    "    \n",
    "#my_dict\n",
    "\n",
    "\n",
    "    \n",
    "    "
   ]
  },
  {
   "cell_type": "code",
   "execution_count": 16,
   "metadata": {},
   "outputs": [
    {
     "data": {
      "text/plain": [
       "0.004006676057457638"
      ]
     },
     "execution_count": 16,
     "metadata": {},
     "output_type": "execute_result"
    }
   ],
   "source": [
    "#find the min MSE\n",
    "MSE_min =min(my_dict.keys())\n",
    "MSE_min\n"
   ]
  },
  {
   "cell_type": "code",
   "execution_count": 17,
   "metadata": {},
   "outputs": [
    {
     "name": "stdout",
     "output_type": "stream",
     "text": [
      "Alpha = 3.5111917342151275\n",
      "MSE = 0.004006676057457638\n"
     ]
    }
   ],
   "source": [
    "# Print out lowest MSE and best alpha\n",
    "alpha=my_dict[MSE_min]\n",
    "print('Alpha = '+ str(alpha))\n",
    "print('MSE = '+ str(MSE_min))"
   ]
  },
  {
   "cell_type": "code",
   "execution_count": 18,
   "metadata": {},
   "outputs": [
    {
     "name": "stdout",
     "output_type": "stream",
     "text": [
      "Alpha = 0.0006135907273413163\n",
      "MSE = 0.004003675549450772\n"
     ]
    }
   ],
   "source": [
    "####################################\n",
    "#### Lasso Regression\n",
    "####################################\n",
    "\n",
    "clf = Lasso(alpha=.1)\n",
    "clf.fit(X_train_scaled, y_train)\n",
    "\n",
    "linspace=10**np.linspace(6,-6,100)\n",
    "\n",
    "# Fill dictionaries of Alphas and MSE\n",
    "my_dict1={ }\n",
    "for a in linspace:\n",
    "    clf = Lasso(alpha=a)\n",
    "    clf.fit(X_train_scaled, y_train)\n",
    "    score1 = cross_val_score(clf, X_train_scaled, y_train, scoring = make_scorer(mean_squared_error), cv=cv)\n",
    "    my_dict1[mean(score1)] = a\n",
    "\n",
    "\n",
    "MSE_min2 =min(my_dict1.keys())\n",
    " \n",
    "\n",
    "alpha2=my_dict1[MSE_min2]\n",
    "print('Alpha = '+ str(alpha2))\n",
    "print('MSE = '+ str(MSE_min2))"
   ]
  },
  {
   "cell_type": "code",
   "execution_count": null,
   "metadata": {},
   "outputs": [],
   "source": []
  },
  {
   "cell_type": "code",
   "execution_count": null,
   "metadata": {},
   "outputs": [],
   "source": []
  },
  {
   "cell_type": "code",
   "execution_count": null,
   "metadata": {},
   "outputs": [],
   "source": []
  },
  {
   "cell_type": "markdown",
   "metadata": {},
   "source": [
    "# 3"
   ]
  },
  {
   "cell_type": "code",
   "execution_count": 19,
   "metadata": {},
   "outputs": [],
   "source": [
    "\n",
    "##################################\n",
    "####### Ridge\n",
    "#####################################\n",
    "# creat a list of coefs for each alpha\n",
    "my_list=[]\n",
    "alphas =10**np.linspace(6,-6,100)\n",
    "for a in linspace:\n",
    "    clf = Ridge(alpha=a)\n",
    "    clf.fit(X_train_scaled, y_train)\n",
    "    clf.predict(X_test_scaled)\n",
    "    my_list.append(clf.coef_)\n",
    "    \n",
    "#print(my_list)"
   ]
  },
  {
   "cell_type": "code",
   "execution_count": 20,
   "metadata": {},
   "outputs": [],
   "source": [
    "import matplotlib.pyplot as plt"
   ]
  },
  {
   "cell_type": "code",
   "execution_count": 21,
   "metadata": {},
   "outputs": [
    {
     "data": {
      "image/png": "[encoded data removed]",
      "text/plain": [
       "<Figure size 432x288 with 1 Axes>"
      ]
     },
     "metadata": {
      "needs_background": "light"
     },
     "output_type": "display_data"
    }
   ],
   "source": [
    "# plot the alphas and coefs\n",
    "ax = plt.gca()\n",
    "\n",
    "ax.plot(alphas, my_list)\n",
    "ax.set_xscale('log')\n",
    "ax.set_xlim(ax.get_xlim()[::-1])  # reverse axis\n",
    "plt.xlabel('alpha')\n",
    "plt.ylabel('weights')\n",
    "plt.title('Ridge coefficients as a function of the regularization')\n",
    "plt.axis('tight')\n",
    "plt.legend(X_train.columns, loc='best')\n",
    "plt.vlines(alpha, ymin = -1, ymax = .17)\n",
    "plt.show()\n",
    "\n"
   ]
  },
  {
   "cell_type": "code",
   "execution_count": 22,
   "metadata": {},
   "outputs": [],
   "source": [
    "####################################\n",
    "#############Lasso\n",
    "###################################\n",
    "#List of Lasso Coefs\n",
    "my_list2=[]\n",
    "alphas = linspace=10**np.linspace(6,-6,100)\n",
    "for a in alphas:\n",
    "    clf = Lasso(alpha=a)\n",
    "    clf.fit(X_train_scaled, y_train)\n",
    "    clf.predict(X_test_scaled)\n",
    "    my_list2.append(clf.coef_)\n",
    "    \n",
    "#print(my_list2)\n"
   ]
  },
  {
   "cell_type": "code",
   "execution_count": 23,
   "metadata": {},
   "outputs": [
    {
     "data": {
      "image/png": "[encoded data removed]",
      "text/plain": [
       "<Figure size 432x288 with 1 Axes>"
      ]
     },
     "metadata": {
      "needs_background": "light"
     },
     "output_type": "display_data"
    }
   ],
   "source": [
    "# plot of alphas and coefs\n",
    "ax = plt.gca()\n",
    "\n",
    "ax.plot(alphas, my_list2)\n",
    "ax.set_xscale('log')\n",
    "ax.set_xlim(ax.get_xlim()[::-1])  # reverse axis\n",
    "plt.xlabel('alpha')\n",
    "plt.ylabel('weights')\n",
    "plt.title('Lasso coefficients as a function of the regularization')\n",
    "plt.axis('tight')\n",
    "plt.legend(X_train.columns, loc='best')\n",
    "plt.vlines(alpha2, ymin = -1, ymax = .17)\n",
    "plt.show()"
   ]
  },
  {
   "cell_type": "markdown",
   "metadata": {},
   "source": [
    "# 4"
   ]
  },
  {
   "cell_type": "code",
   "execution_count": 24,
   "metadata": {},
   "outputs": [],
   "source": [
    "################################\n",
    "####### Ridge Exponential\n",
    "#################################\n",
    "#list of exponential coefs for each alpha\n",
    "import math\n",
    "my_list=[]\n",
    "alphas = linspace=10**np.linspace(6,-6,100)\n",
    "\n",
    "for a in alphas:\n",
    "    clf = Ridge(alpha=a)\n",
    "    clf.fit(X_train_scaled, y_train.map(math.exp))\n",
    "    clf.predict(X_test_scaled)\n",
    "    my_list.append(clf.coef_)\n",
    "    \n",
    "#print(my_list)"
   ]
  },
  {
   "cell_type": "code",
   "execution_count": null,
   "metadata": {},
   "outputs": [],
   "source": [
    "\n"
   ]
  },
  {
   "cell_type": "markdown",
   "metadata": {},
   "source": []
  },
  {
   "cell_type": "code",
   "execution_count": 25,
   "metadata": {},
   "outputs": [
    {
     "name": "stdout",
     "output_type": "stream",
     "text": [
      "Alpha = 3.5111917342151275\n",
      "MSE = 0.014384236982045731\n"
     ]
    }
   ],
   "source": [
    "######################################\n",
    "##### Ridge exp y_train\n",
    "##############################################\n",
    "# Ridge Regression as exp\n",
    "my_dict2={ }\n",
    "for a in alphas:\n",
    "    clf = Ridge(alpha=a)\n",
    "    clf.fit(X_train_scaled, y_train.map(math.exp))\n",
    "    score1 = cross_val_score(clf, X_train_scaled, y_train.map(math.exp), scoring = make_scorer(mean_squared_error), cv=cv)\n",
    "    my_dict2[mean(score1)] = a\n",
    "\n",
    "\n",
    "MSE_min3 =min(my_dict2.keys())\n",
    " \n",
    "\n",
    "alpha3=my_dict2[MSE_min3]\n",
    "print('Alpha = '+ str(alpha3))\n",
    "print('MSE = '+ str(MSE_min3))"
   ]
  },
  {
   "cell_type": "markdown",
   "metadata": {},
   "source": [
    "The optimial alpha came out to a similar value, however the exp MSE is much higher, meaning that using the y_train exp is worse for the overall performance of the model. "
   ]
  },
  {
   "cell_type": "code",
   "execution_count": null,
   "metadata": {},
   "outputs": [],
   "source": []
  },
  {
   "cell_type": "code",
   "execution_count": 26,
   "metadata": {},
   "outputs": [
    {
     "data": {
      "image/png": "[encoded data removed]",
      "text/plain": [
       "<Figure size 432x288 with 1 Axes>"
      ]
     },
     "metadata": {
      "needs_background": "light"
     },
     "output_type": "display_data"
    }
   ],
   "source": [
    "# plot the exp ridge\n",
    "ax = plt.gca()\n",
    "\n",
    "ax.plot(alphas, my_list)\n",
    "ax.set_xscale('log')\n",
    "ax.set_xlim(ax.get_xlim()[::-1])  # reverse axis\n",
    "plt.xlabel('alpha')\n",
    "plt.ylabel('weights')\n",
    "plt.title('Ridge  Exp coefficients as a function of the regularization')\n",
    "plt.axis('tight')\n",
    "plt.vlines(alpha3, ymin = -1, ymax = .17)\n",
    "plt.legend(X_train.columns, loc='best')\n",
    "plt.show()\n"
   ]
  },
  {
   "cell_type": "code",
   "execution_count": 27,
   "metadata": {},
   "outputs": [
    {
     "name": "stdout",
     "output_type": "stream",
     "text": [
      "Alpha = 0.00046415888336127724\n",
      "MSE = 0.014394925908047612\n"
     ]
    }
   ],
   "source": [
    "\n",
    "################################\n",
    "######### Lasso Exp y_train\n",
    "#################################\n",
    "\n",
    "my_dict4={ }\n",
    "for a in alphas:\n",
    "    clf = Lasso(alpha=a)\n",
    "    clf.fit(X_train_scaled, y_train.map(math.exp))\n",
    "    score1 = cross_val_score(clf, X_train_scaled, y_train.map(math.exp), scoring = make_scorer(mean_squared_error), cv=cv)\n",
    "    my_dict4[mean(score1)] = a\n",
    "\n",
    "\n",
    "MSE_min4 =min(my_dict4.keys())\n",
    " \n",
    "\n",
    "alpha4=my_dict4[MSE_min4]\n",
    "print('Alpha = '+ str(alpha4))\n",
    "print('MSE = '+ str(MSE_min4))"
   ]
  },
  {
   "cell_type": "markdown",
   "metadata": {},
   "source": [
    "In this case the alpha is slightly different but also provides a higher MSE. The MSE for the exp Lasso is similar to the exp Ridge MSE. Intuitively this is valid due to the higher order of magnitude. "
   ]
  },
  {
   "cell_type": "code",
   "execution_count": 28,
   "metadata": {},
   "outputs": [
    {
     "data": {
      "image/png": "[encoded data removed]",
      "text/plain": [
       "<Figure size 432x288 with 1 Axes>"
      ]
     },
     "metadata": {
      "needs_background": "light"
     },
     "output_type": "display_data"
    }
   ],
   "source": [
    "ax = plt.gca()\n",
    "\n",
    "ax.plot(alphas, my_list2)\n",
    "ax.set_xscale('log')\n",
    "ax.set_xlim(ax.get_xlim()[::-1])  # reverse axis\n",
    "plt.xlabel('alpha')\n",
    "plt.ylabel('weights')\n",
    "plt.title('Lasso  Exp coefficients as a function of the regularization')\n",
    "plt.axis('tight')\n",
    "plt.vlines(alpha4, ymin = -1, ymax = .17)\n",
    "plt.legend(X_train.columns, loc='best')\n",
    "plt.show()\n"
   ]
  },
  {
   "cell_type": "markdown",
   "metadata": {},
   "source": [
    "# 5"
   ]
  },
  {
   "cell_type": "code",
   "execution_count": 29,
   "metadata": {},
   "outputs": [],
   "source": [
    "\n",
    "##################################\n",
    "###### Elastic Net\n",
    "###################################\n",
    "from sklearn.linear_model import ElasticNet\n",
    "\n"
   ]
  },
  {
   "cell_type": "code",
   "execution_count": 30,
   "metadata": {},
   "outputs": [],
   "source": [
    "import math\n",
    "my_list5=[]\n",
    "alphas = linspace=10**np.linspace(6,-6,100)\n",
    "\n",
    "for a in alphas:\n",
    "    clf = ElasticNet(alpha=a)\n",
    "    clf.fit(X_train_scaled, y_train)\n",
    "    clf.predict(X_test_scaled)\n",
    "    my_list5.append(clf.coef_)\n",
    "    \n",
    "#print(my_list5)"
   ]
  },
  {
   "cell_type": "code",
   "execution_count": null,
   "metadata": {},
   "outputs": [],
   "source": []
  },
  {
   "cell_type": "code",
   "execution_count": 31,
   "metadata": {},
   "outputs": [
    {
     "name": "stdout",
     "output_type": "stream",
     "text": [
      "Alpha = 0.001072267222010321\n",
      "MSE = 0.004003258212475898\n"
     ]
    }
   ],
   "source": [
    "my_dict5={ }\n",
    "score5=0\n",
    "for a in linspace:\n",
    "    clf = ElasticNet(alpha=a)\n",
    "    clf.fit(X_train_scaled, y_train)\n",
    "    \n",
    "    score= cross_val_score(clf, X_train_scaled, y_train, scoring = make_scorer(mean_squared_error), cv=cv)\n",
    "    my_dict5[mean(score)] = a\n",
    "\n",
    "\n",
    "MSE_min5 =min(my_dict5.keys())\n",
    " \n",
    "\n",
    "alpha5=my_dict5[MSE_min5]\n",
    "print('Alpha = '+ str(alpha5))\n",
    "print('MSE = '+ str(MSE_min5))"
   ]
  },
  {
   "cell_type": "code",
   "execution_count": 32,
   "metadata": {},
   "outputs": [
    {
     "data": {
      "image/png": "[encoded data removed]",
      "text/plain": [
       "<Figure size 432x288 with 1 Axes>"
      ]
     },
     "metadata": {
      "needs_background": "light"
     },
     "output_type": "display_data"
    }
   ],
   "source": [
    "ax = plt.gca()\n",
    "\n",
    "ax.plot(alphas, my_list5)\n",
    "ax.set_xscale('log')\n",
    "ax.set_xlim(ax.get_xlim()[::-1])  # reverse axis\n",
    "plt.xlabel('alpha')\n",
    "plt.ylabel('weights')\n",
    "plt.title('Elastic Net coefficients as a function of the regularization')\n",
    "plt.axis('tight')\n",
    "plt.vlines(alpha5, ymin = -1, ymax = .17)\n",
    "plt.legend(X_train.columns, loc='best')\n",
    "plt.show()\n"
   ]
  },
  {
   "cell_type": "markdown",
   "metadata": {},
   "source": [
    "All three models obtained small MSEs and the difference in error between them was not statistically significant. It can be noted that ridge regression does not reduce the number of variables as show on the Ridge graph in part 3. Thus making the model needlessly complex.  However Lasso does reduce the amount of variables to be added to the model, also shown in part 3, but does not account for colinearity well. Generally speaking if someone has a high CGPA they will also have a high GRE_Score; Lasso does not account for this as well as the other models. The Lasso model got rid of the SOP variable and simplified the model. The Elastic Net model attempts to meet in the middle and reduce variables while solving for colinearities. For this data set the best model to choose would be the Elastic Net, because their is a highly dominant variable, CGPA, that outshines most other indicators. Although the computational cost is greater and it has risk of overfitting, the Elastic Net does well in this simpler data set. The assumptions made by Ridge and Lasso regression are minimal, but the best model in this case would be the Elastic Net. "
   ]
  },
  {
   "cell_type": "markdown",
   "metadata": {},
   "source": [
    "# 6"
   ]
  },
  {
   "cell_type": "code",
   "execution_count": 33,
   "metadata": {},
   "outputs": [],
   "source": [
    "####################################\n",
    "############### Linear Regression\n",
    "###########################################\n",
    "\n",
    "from sklearn.linear_model import LinearRegression\n",
    "model = LinearRegression()"
   ]
  },
  {
   "cell_type": "code",
   "execution_count": 34,
   "metadata": {},
   "outputs": [
    {
     "data": {
      "text/plain": [
       "LinearRegression()"
      ]
     },
     "execution_count": 34,
     "metadata": {},
     "output_type": "execute_result"
    }
   ],
   "source": [
    "model.fit(X_train_scaled, y_train)"
   ]
  },
  {
   "cell_type": "code",
   "execution_count": 35,
   "metadata": {},
   "outputs": [
    {
     "name": "stdout",
     "output_type": "stream",
     "text": [
      "MSE Train = 0.011571207136144292\n"
     ]
    }
   ],
   "source": [
    "pred =model.predict(X_train_scaled)\n",
    "MSE1 = (pred- y_train)**2\n",
    "MSE1 = MSE1.sum()/len(X_test_scaled)\n",
    "MSE1\n",
    "print('MSE Train = ' +str(MSE1))"
   ]
  },
  {
   "cell_type": "code",
   "execution_count": 36,
   "metadata": {},
   "outputs": [
    {
     "data": {
      "text/plain": [
       "0.07211251969187672"
      ]
     },
     "execution_count": 36,
     "metadata": {},
     "output_type": "execute_result"
    }
   ],
   "source": [
    "\n",
    "pred =model.predict(X_test_scaled)\n",
    "MSE = (pred-y_test)**2\n",
    "MSE = MSE.sum()/len(X_test_scaled)\n",
    "RMSE= MSE**(1/2)\n",
    "RMSE"
   ]
  },
  {
   "cell_type": "code",
   "execution_count": 37,
   "metadata": {},
   "outputs": [
    {
     "data": {
      "text/plain": [
       "True"
      ]
     },
     "execution_count": 37,
     "metadata": {},
     "output_type": "execute_result"
    }
   ],
   "source": [
    "pred.shape == y_test.shape"
   ]
  },
  {
   "cell_type": "code",
   "execution_count": null,
   "metadata": {},
   "outputs": [],
   "source": []
  },
  {
   "cell_type": "code",
   "execution_count": 38,
   "metadata": {},
   "outputs": [],
   "source": [
    "sst=(y_test-mean(y_test))**2\n",
    "sst = sst.sum()\n",
    "ssr = (pred-y_test)**2\n",
    "ssr = ssr.sum()"
   ]
  },
  {
   "cell_type": "code",
   "execution_count": 39,
   "metadata": {},
   "outputs": [
    {
     "name": "stdout",
     "output_type": "stream",
     "text": [
      "MSE Test = 0.005200215496311308\n",
      "R2 Test = 0.6910288907914794\n"
     ]
    }
   ],
   "source": [
    "\n",
    "R2 = (1-ssr/sst)\n",
    "R2\n",
    "print('MSE Test = ' + str(MSE))\n",
    "print('R2 Test = ' + str(R2))"
   ]
  },
  {
   "cell_type": "code",
   "execution_count": 40,
   "metadata": {},
   "outputs": [
    {
     "name": "stdout",
     "output_type": "stream",
     "text": [
      "MSE Test = 0.005157842388011932\n",
      "R2 Test = 0.6935464915103645\n"
     ]
    }
   ],
   "source": [
    "####################################\n",
    "############### Ridge Regression\n",
    "###########################################\n",
    "#print(alpha)\n",
    "from sklearn.linear_model import Ridge\n",
    "model = Ridge(alpha = alpha)\n",
    "\n",
    "model.fit(X_train_scaled, y_train)\n",
    "pred =model.predict(X_test_scaled)\n",
    "MSE = (pred-y_test)**2\n",
    "MSE = MSE.sum()/len(X_test_scaled)\n",
    "RMSE= MSE**(1/2)\n",
    "RMSE\n",
    "\n",
    "sst=(y_test-mean(y_test))**2\n",
    "sst = sst.sum()\n",
    "\n",
    "ssr = (pred-y_test)**2\n",
    "ssr = ssr.sum()\n",
    "R2 = (1-ssr/sst)\n",
    "print('MSE Test = ' + str(MSE))\n",
    "print('R2 Test = ' + str(R2))"
   ]
  },
  {
   "cell_type": "code",
   "execution_count": 41,
   "metadata": {},
   "outputs": [
    {
     "name": "stdout",
     "output_type": "stream",
     "text": [
      "MSE Train = 5.157842388011932e-05\n"
     ]
    }
   ],
   "source": [
    "pred =model.predict(X_train_scaled)\n",
    "MSE2 = (pred- y_train)**2\n",
    "MSE2 = MSE.sum()/len(X_test_scaled)\n",
    "MSE2\n",
    "print('MSE Train = ' +str(MSE2))"
   ]
  },
  {
   "cell_type": "code",
   "execution_count": 42,
   "metadata": {},
   "outputs": [
    {
     "name": "stdout",
     "output_type": "stream",
     "text": [
      "MSE Test = 0.0051822595193687804\n",
      "R2 Test = 0.692095746216373\n"
     ]
    }
   ],
   "source": [
    "\n",
    "####################################\n",
    "############### Lasso Regression\n",
    "###########################################\n",
    "#print(alpha)\n",
    "from sklearn.linear_model import Lasso\n",
    "model = Lasso(alpha = alpha2)\n",
    "\n",
    "model.fit(X_train_scaled, y_train)\n",
    "pred =model.predict(X_test_scaled)\n",
    "MSE = (pred-y_test)**2\n",
    "MSE = MSE.sum()/len(X_test_scaled)\n",
    "RMSE= MSE**(1/2)\n",
    "RMSE\n",
    "\n",
    "sst=(y_test-mean(y_test))**2\n",
    "sst = sst.sum()\n",
    "\n",
    "ssr = (pred-y_test)**2\n",
    "ssr = ssr.sum()\n",
    "R2 = (1-ssr/sst)\n",
    "print('MSE Test = ' + str(MSE))\n",
    "print('R2 Test = ' + str(R2))"
   ]
  },
  {
   "cell_type": "code",
   "execution_count": 43,
   "metadata": {},
   "outputs": [
    {
     "name": "stdout",
     "output_type": "stream",
     "text": [
      "MSE Train = 5.1822595193687806e-05\n"
     ]
    }
   ],
   "source": [
    "pred =model.predict(X_train_scaled)\n",
    "MSE3 = (pred- y_train)**2\n",
    "MSE3 = MSE.sum()/len(X_test_scaled)\n",
    "MSE3\n",
    "print('MSE Train = ' +str(MSE3))"
   ]
  },
  {
   "cell_type": "markdown",
   "metadata": {},
   "source": [
    "# 7"
   ]
  },
  {
   "cell_type": "code",
   "execution_count": null,
   "metadata": {},
   "outputs": [],
   "source": []
  },
  {
   "cell_type": "code",
   "execution_count": 44,
   "metadata": {},
   "outputs": [
    {
     "name": "stdout",
     "output_type": "stream",
     "text": [
      "MSE Test = 0.004526319242200033\n",
      "R2 Test = 0.731068476318641\n"
     ]
    }
   ],
   "source": [
    "####################################\n",
    "############### linear Regression\n",
    "###########################################\n",
    "#print(alpha)\n",
    "from sklearn.linear_model import LinearRegression\n",
    "model = LinearRegression()\n",
    "\n",
    "model.fit(X_train, y_train)\n",
    "pred =model.predict(X_test)\n",
    "MSE = (pred-y_test)**2\n",
    "MSE = MSE.sum()/len(X_test)\n",
    "RMSE= MSE**(1/2)\n",
    "RMSE\n",
    "\n",
    "sst=(y_test-mean(y_test))**2\n",
    "sst = sst.sum()\n",
    "\n",
    "ssr = (pred-y_test)**2\n",
    "ssr = ssr.sum()\n",
    "R2 = (1-ssr/sst)\n",
    "print('MSE Test = ' + str(MSE))\n",
    "print('R2 Test = ' + str(R2))"
   ]
  },
  {
   "cell_type": "code",
   "execution_count": 45,
   "metadata": {},
   "outputs": [
    {
     "name": "stdout",
     "output_type": "stream",
     "text": [
      "MSE Test = 0.004516376006313416\n",
      "R2 Test = 0.7316592542629761\n"
     ]
    }
   ],
   "source": [
    "####################################\n",
    "############### Ridge Regression\n",
    "###########################################\n",
    "#print(alpha)\n",
    "from sklearn.linear_model import Ridge\n",
    "model = Ridge(alpha = alpha)\n",
    "\n",
    "model.fit(X_train, y_train)\n",
    "pred =model.predict(X_test)\n",
    "MSE = (pred-y_test)**2\n",
    "MSE = MSE.sum()/len(X_test)\n",
    "RMSE= MSE**(1/2)\n",
    "RMSE\n",
    "\n",
    "sst=(y_test-mean(y_test))**2\n",
    "sst = sst.sum()\n",
    "\n",
    "ssr = (pred-y_test)**2\n",
    "ssr = ssr.sum()\n",
    "R2 = (1-ssr/sst)\n",
    "print('MSE Test = ' + str(MSE))\n",
    "print('R2 Test = ' + str(R2))"
   ]
  },
  {
   "cell_type": "code",
   "execution_count": 46,
   "metadata": {},
   "outputs": [
    {
     "name": "stdout",
     "output_type": "stream",
     "text": [
      "MSE Test = 0.0045544959720175355\n",
      "R2 Test = 0.7293943542612459\n"
     ]
    }
   ],
   "source": [
    "####################################\n",
    "############### Ridge Regression\n",
    "###########################################\n",
    "#print(alpha)\n",
    "from sklearn.linear_model import Lasso\n",
    "model = Lasso(alpha = alpha2)\n",
    "\n",
    "model.fit(X_train, y_train)\n",
    "pred =model.predict(X_test)\n",
    "MSE = (pred-y_test)**2\n",
    "MSE = MSE.sum()/len(X_test)\n",
    "RMSE= MSE**(1/2)\n",
    "RMSE\n",
    "\n",
    "sst=(y_test-mean(y_test))**2\n",
    "sst = sst.sum()\n",
    "\n",
    "ssr = (pred-y_test)**2\n",
    "ssr = ssr.sum()\n",
    "R2 = (1-ssr/sst)\n",
    "print('MSE Test = ' + str(MSE))\n",
    "print('R2 Test = ' + str(R2))"
   ]
  },
  {
   "cell_type": "markdown",
   "metadata": {},
   "source": [
    "The MSE is lower on the unscaled data and the R2 is higher on the unscaled data. This demonstrates the importance of scaling becuase without it you get a false  MSE and R2. This provides inaccurate metrics for your model. "
   ]
  },
  {
   "cell_type": "code",
   "execution_count": null,
   "metadata": {},
   "outputs": [],
   "source": []
  },
  {
   "cell_type": "code",
   "execution_count": null,
   "metadata": {},
   "outputs": [],
   "source": []
  },
  {
   "cell_type": "code",
   "execution_count": null,
   "metadata": {},
   "outputs": [],
   "source": []
  },
  {
   "cell_type": "code",
   "execution_count": null,
   "metadata": {},
   "outputs": [],
   "source": []
  }
 ],
 "metadata": {
  "colab": {
   "collapsed_sections": [],
   "name": "MIS 382N - HW1.ipynb",
   "provenance": []
  },
  "kernelspec": {
   "display_name": "Python 3",
   "language": "python",
   "name": "python3"
  },
  "language_info": {
   "codemirror_mode": {
    "name": "ipython",
    "version": 3
   },
   "file_extension": ".py",
   "mimetype": "text/x-python",
   "name": "python",
   "nbconvert_exporter": "python",
   "pygments_lexer": "ipython3",
   "version": "3.8.8"
  }
 },
 "nbformat": 4,
 "nbformat_minor": 1
}
