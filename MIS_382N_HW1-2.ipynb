{
 "cells": [
  {
   "cell_type": "markdown",
   "metadata": {
    "id": "evHVxwk2JA-3"
   },
   "source": [
    "# <p style=\"text-align: center;\">MIS 382N: Advanced Machine Learning</p>\n",
    "# <p style=\"text-align: center;\">Homework 1</p>\n",
    "## <p style=\"text-align: center;\">Total points: 55</p>\n",
    "## <p style=\"text-align: center;\">Due: Wednesday, Sep 8 submitted via Canvas by 11:59 pm</p>\n",
    "\n",
    "Your homework should be written in a **Jupyter notebook**. Please make sure your code runs and the graphics (and anything else) are displayed in your notebook before submitting (%matplotlib inline). **This can be an individual assignment or group of 2. If you choose to do it as a group, please specify who you are working with (name and EID), then only one student should submit the homework.**\n",
    "\n",
    "**Note: Notebooks MUST have the images embedded in them. There will be no regrades if attached images do not render in the notebook. Please re download from canvas after submission and make sure all attached images render without errors. (Hint: Image module from IPython.display)**"
   ]
  },
  {
   "cell_type": "code",
   "execution_count": null,
   "metadata": {
    "id": "0eTfjKUv7_Yo"
   },
   "outputs": [],
   "source": []
  },
  {
   "cell_type": "markdown",
   "metadata": {
    "id": "TWWU_gOSLEEv"
   },
   "source": [
    "# Question 1: MLOps (10 pts)\n",
    "Read this [article](https://towardsdatascience.com/what-is-mlops-everything-you-must-know-to-get-started-523f2d0b8bd8) \"What is MLOps — Everything You Must Know to Get Started\", which gives a quick walkthrough of the machine learning development lifecycle and explains how MLOps come into play, or watch this [video](https://www.youtube.com/watch?v=06-AZXmwHjo) which you may find interesting.\n",
    "\n",
    "1. (**4 pts**) Use your own words to describe what MLOps is, and what challenges MLOps address. Limit your answer to one paragraph.\n",
    "\n",
    "2. (**6 pts**) Describe what the main phases in MLOps are. Your answer should be 2-3 paragraphs.\n",
    "\n",
    "\n",
    "## Answer:"
   ]
  },
  {
   "cell_type": "markdown",
   "metadata": {
    "id": "wusA9L1LmUMH"
   },
   "source": [
    "# Question 2: Applications of Machine Learning (5 pts)\n",
    "Read this [article](https://builtin.com/data-science/data-science-applications-examples) \"17 Data Science Applications & Examples\" and pick one of the data science systems used by various organizations according to this blog. \n",
    "\n",
    "For this system you have chosen, answer the following questions. Please limit your answer to one paragraph:IRS Tax Evasion\n",
    "\n",
    "1. What kind of machine learning problem is involved (e.g. classification, regression, clustering, outlier detection,...) in this system?\n",
    "\n",
    "2. Speculate on what kind of data may be needed and how the results can be useful to the organization.\n",
    "\n",
    "3. What do you think are the ethical implications of using machine learning in a domain like this?\n",
    "\n",
    "## Answer:\n",
    "This system takes many variables: spending, social media, and others to predict the estimated cost of this years taxes. Any tax filings that are wildly different from the regression analysis will get audited. Therefore, the IRS will monitor certain spending habits. Looking at major purchases or bank statements would be difficult, I wonder if they are able to look at your bank statements. The article states that the IRS is able to grab data electronic payment patterns, which is concerning. Using social media to montor a person for large purchases would be simple if someone is inclined to show off a new car or house. Again, I am not sure how they know who has which account on social media, even if it is a public account. This broaches an interesting subject about how involved the IRS is in our lives. Using machine learning seems to be helping solve tax fraud, but at the cost of our privacy. The costs do not seem to outweigh the benefits. Being able to research an individual on social media and look inside their bank account seems like a severly unethical approach to finding people who cheat on their taxes. "
   ]
  },
  {
   "cell_type": "markdown",
   "metadata": {
    "id": "2w8za9lLmVO7"
   },
   "source": [
    "# Question 3: Simpson's Paradox (10 pts)\n",
    "A data scientist should be careful about drawing unwarranted conclusions about any data that is presented. One of the 'gotchas' that can happen even in apparently very simple tabular summaries, is called Simpson's paradox.\n",
    "\n",
    "Read this [article](https://www.covid-datascience.com/post/israeli-data-how-can-efficacy-vs-severe-disease-be-strong-when-60-of-hospitalized-are-vaccinated), which explains why the computed efficacy of the Pfizer vaccine is misleadingly low (67.5%) when you lump all people together, but once you stratify people by age (which is the right thing to do), you get much higher efficacy numbers.\n",
    "\n",
    "1.(**5 pts**) Explain in your own words what Simpson's paradox is, and how this 'paradox' can happen in real data.\n",
    "\n",
    "2.(**5 pts**) Find and mention another example of Simpson's paradox (but not any of the 3 examples given in the Wikipedia entry for 'Simpson's paradox'), state why the paradox appeared in your chosen example. Also give a reference (URL) to your source for the chosen example.\n",
    "\n",
    "## Answer:"
   ]
  },
  {
   "cell_type": "markdown",
   "metadata": {
    "id": "gth0D8jiMBSe"
   },
   "source": [
    "# Question 4: Ridge and Lasso Regression (30 pts)\n",
    "\n",
    "Download the dataset **Admission.csv** from Canvas and use the following codes to import the Admission dataset in Python. \n",
    "\n",
    "There are 7 features in the dataset:\n",
    "\n",
    "1. GRE score\n",
    "2. TOEFL score\n",
    "3. University Rating\n",
    "4. SOP(Statement of Purpose)\n",
    "5. LOR(Letter of Recommendation)\n",
    "6. CGPA\n",
    "7. Research\n",
    "\n",
    "And the target is **Chance of Admission**."
   ]
  },
  {
   "cell_type": "code",
   "execution_count": 4,
   "metadata": {
    "id": "QFazlpLgGpAa"
   },
   "outputs": [
    {
     "ename": "ModuleNotFoundError",
     "evalue": "No module named 'google.colab'",
     "output_type": "error",
     "traceback": [
      "\u001b[1;31m---------------------------------------------------------------------------\u001b[0m",
      "\u001b[1;31mModuleNotFoundError\u001b[0m                       Traceback (most recent call last)",
      "\u001b[1;32m<ipython-input-4-25e79b7f35f7>\u001b[0m in \u001b[0;36m<module>\u001b[1;34m\u001b[0m\n\u001b[0;32m      1\u001b[0m \u001b[1;31m# Only use this code block if you are using Google Colab.\u001b[0m\u001b[1;33m\u001b[0m\u001b[1;33m\u001b[0m\u001b[1;33m\u001b[0m\u001b[0m\n\u001b[0;32m      2\u001b[0m \u001b[1;31m# If you are using Jupyter Notebook, please ignore this code block. You can directly upload the file to your Jupyter Notebook file systems.\u001b[0m\u001b[1;33m\u001b[0m\u001b[1;33m\u001b[0m\u001b[1;33m\u001b[0m\u001b[0m\n\u001b[1;32m----> 3\u001b[1;33m \u001b[1;32mfrom\u001b[0m \u001b[0mgoogle\u001b[0m\u001b[1;33m.\u001b[0m\u001b[0mcolab\u001b[0m \u001b[1;32mimport\u001b[0m \u001b[0mfiles\u001b[0m\u001b[1;33m\u001b[0m\u001b[1;33m\u001b[0m\u001b[0m\n\u001b[0m\u001b[0;32m      4\u001b[0m \u001b[1;33m\u001b[0m\u001b[0m\n\u001b[0;32m      5\u001b[0m \u001b[1;31m## It will prompt you to select a local file. Click on “Choose Files” then select and upload the file.\u001b[0m\u001b[1;33m\u001b[0m\u001b[1;33m\u001b[0m\u001b[1;33m\u001b[0m\u001b[0m\n",
      "\u001b[1;31mModuleNotFoundError\u001b[0m: No module named 'google.colab'"
     ]
    }
   ],
   "source": [
    "# Only use this code block if you are using Google Colab.\n",
    "# If you are using Jupyter Notebook, please ignore this code block. You can directly upload the file to your Jupyter Notebook file systems.\n",
    "from google.colab import files\n",
    "\n",
    "## It will prompt you to select a local file. Click on “Choose Files” then select and upload the file. \n",
    "## Wait for the file to be 100% uploaded. You should see the name of the file once Colab has uploaded it.\n",
    "uploaded = files.upload()"
   ]
  },
  {
   "cell_type": "code",
   "execution_count": 1,
   "metadata": {
    "id": "xsPaOOehGuU6"
   },
   "outputs": [],
   "source": [
    "# Codes below will work for both Google Colab and Jupyter Notebook.\n",
    "import numpy as np\n",
    "import pandas as pd\n",
    "import random\n",
    "from sklearn import linear_model\n",
    "from sklearn.metrics import mean_absolute_error, mean_squared_error\n",
    "from sklearn.linear_model import LogisticRegression\n",
    "\n",
    "## Load the dataset into pandas DataFrame\n",
    "df = pd.read_csv('Admission.csv', index_col=0)\n",
    "df = df.replace([np.inf, -np.inf], np.nan) # \n",
    "df = df.fillna(0) # Replace all the NaN values with 0"
   ]
  },
  {
   "cell_type": "code",
   "execution_count": 2,
   "metadata": {
    "id": "PmMz72U6Gv-z"
   },
   "outputs": [
    {
     "data": {
      "text/plain": [
       "Index(['GRE_Score', 'TOEFL_Score', 'University_Rating', 'SOP', 'LOR ', 'CGPA',\n",
       "       'Research', 'Chance_of_Admit'],\n",
       "      dtype='object')"
      ]
     },
     "execution_count": 2,
     "metadata": {},
     "output_type": "execute_result"
    }
   ],
   "source": [
    "df.columns # Show you all the columns in this file"
   ]
  },
  {
   "cell_type": "code",
   "execution_count": 3,
   "metadata": {
    "id": "CyZN-yFfGxlt"
   },
   "outputs": [
    {
     "data": {
      "text/html": [
       "<div>\n",
       "<style scoped>\n",
       "    .dataframe tbody tr th:only-of-type {\n",
       "        vertical-align: middle;\n",
       "    }\n",
       "\n",
       "    .dataframe tbody tr th {\n",
       "        vertical-align: top;\n",
       "    }\n",
       "\n",
       "    .dataframe thead th {\n",
       "        text-align: right;\n",
       "    }\n",
       "</style>\n",
       "<table border=\"1\" class=\"dataframe\">\n",
       "  <thead>\n",
       "    <tr style=\"text-align: right;\">\n",
       "      <th></th>\n",
       "      <th>GRE_Score</th>\n",
       "      <th>TOEFL_Score</th>\n",
       "      <th>University_Rating</th>\n",
       "      <th>SOP</th>\n",
       "      <th>LOR</th>\n",
       "      <th>CGPA</th>\n",
       "      <th>Research</th>\n",
       "      <th>Chance_of_Admit</th>\n",
       "    </tr>\n",
       "    <tr>\n",
       "      <th>Serial No.</th>\n",
       "      <th></th>\n",
       "      <th></th>\n",
       "      <th></th>\n",
       "      <th></th>\n",
       "      <th></th>\n",
       "      <th></th>\n",
       "      <th></th>\n",
       "      <th></th>\n",
       "    </tr>\n",
       "  </thead>\n",
       "  <tbody>\n",
       "    <tr>\n",
       "      <th>1</th>\n",
       "      <td>337</td>\n",
       "      <td>118</td>\n",
       "      <td>4</td>\n",
       "      <td>4.5</td>\n",
       "      <td>4.5</td>\n",
       "      <td>9.65</td>\n",
       "      <td>1</td>\n",
       "      <td>0.92</td>\n",
       "    </tr>\n",
       "    <tr>\n",
       "      <th>2</th>\n",
       "      <td>324</td>\n",
       "      <td>107</td>\n",
       "      <td>4</td>\n",
       "      <td>4.0</td>\n",
       "      <td>4.5</td>\n",
       "      <td>8.87</td>\n",
       "      <td>1</td>\n",
       "      <td>0.76</td>\n",
       "    </tr>\n",
       "    <tr>\n",
       "      <th>3</th>\n",
       "      <td>316</td>\n",
       "      <td>104</td>\n",
       "      <td>3</td>\n",
       "      <td>3.0</td>\n",
       "      <td>3.5</td>\n",
       "      <td>8.00</td>\n",
       "      <td>1</td>\n",
       "      <td>0.72</td>\n",
       "    </tr>\n",
       "    <tr>\n",
       "      <th>4</th>\n",
       "      <td>322</td>\n",
       "      <td>110</td>\n",
       "      <td>3</td>\n",
       "      <td>3.5</td>\n",
       "      <td>2.5</td>\n",
       "      <td>8.67</td>\n",
       "      <td>1</td>\n",
       "      <td>0.80</td>\n",
       "    </tr>\n",
       "    <tr>\n",
       "      <th>5</th>\n",
       "      <td>314</td>\n",
       "      <td>103</td>\n",
       "      <td>2</td>\n",
       "      <td>2.0</td>\n",
       "      <td>3.0</td>\n",
       "      <td>8.21</td>\n",
       "      <td>0</td>\n",
       "      <td>0.65</td>\n",
       "    </tr>\n",
       "  </tbody>\n",
       "</table>\n",
       "</div>"
      ],
      "text/plain": [
       "            GRE_Score  TOEFL_Score  University_Rating  SOP  LOR   CGPA  \\\n",
       "Serial No.                                                               \n",
       "1                 337          118                  4  4.5   4.5  9.65   \n",
       "2                 324          107                  4  4.0   4.5  8.87   \n",
       "3                 316          104                  3  3.0   3.5  8.00   \n",
       "4                 322          110                  3  3.5   2.5  8.67   \n",
       "5                 314          103                  2  2.0   3.0  8.21   \n",
       "\n",
       "            Research  Chance_of_Admit  \n",
       "Serial No.                             \n",
       "1                  1             0.92  \n",
       "2                  1             0.76  \n",
       "3                  1             0.72  \n",
       "4                  1             0.80  \n",
       "5                  0             0.65  "
      ]
     },
     "execution_count": 3,
     "metadata": {},
     "output_type": "execute_result"
    }
   ],
   "source": [
    "df.head() # Show you the first 5 rows in this file"
   ]
  },
  {
   "cell_type": "code",
   "execution_count": 4,
   "metadata": {},
   "outputs": [
    {
     "data": {
      "text/html": [
       "<div>\n",
       "<style scoped>\n",
       "    .dataframe tbody tr th:only-of-type {\n",
       "        vertical-align: middle;\n",
       "    }\n",
       "\n",
       "    .dataframe tbody tr th {\n",
       "        vertical-align: top;\n",
       "    }\n",
       "\n",
       "    .dataframe thead th {\n",
       "        text-align: right;\n",
       "    }\n",
       "</style>\n",
       "<table border=\"1\" class=\"dataframe\">\n",
       "  <thead>\n",
       "    <tr style=\"text-align: right;\">\n",
       "      <th></th>\n",
       "      <th>GRE_Score</th>\n",
       "      <th>TOEFL_Score</th>\n",
       "      <th>University_Rating</th>\n",
       "      <th>SOP</th>\n",
       "      <th>LOR</th>\n",
       "      <th>CGPA</th>\n",
       "      <th>Research</th>\n",
       "      <th>Chance_of_Admit</th>\n",
       "    </tr>\n",
       "    <tr>\n",
       "      <th>Serial No.</th>\n",
       "      <th></th>\n",
       "      <th></th>\n",
       "      <th></th>\n",
       "      <th></th>\n",
       "      <th></th>\n",
       "      <th></th>\n",
       "      <th></th>\n",
       "      <th></th>\n",
       "    </tr>\n",
       "  </thead>\n",
       "  <tbody>\n",
       "    <tr>\n",
       "      <th>1</th>\n",
       "      <td>337</td>\n",
       "      <td>118</td>\n",
       "      <td>4</td>\n",
       "      <td>4.5</td>\n",
       "      <td>4.5</td>\n",
       "      <td>9.65</td>\n",
       "      <td>1</td>\n",
       "      <td>0.92</td>\n",
       "    </tr>\n",
       "    <tr>\n",
       "      <th>2</th>\n",
       "      <td>324</td>\n",
       "      <td>107</td>\n",
       "      <td>4</td>\n",
       "      <td>4.0</td>\n",
       "      <td>4.5</td>\n",
       "      <td>8.87</td>\n",
       "      <td>1</td>\n",
       "      <td>0.76</td>\n",
       "    </tr>\n",
       "    <tr>\n",
       "      <th>3</th>\n",
       "      <td>316</td>\n",
       "      <td>104</td>\n",
       "      <td>3</td>\n",
       "      <td>3.0</td>\n",
       "      <td>3.5</td>\n",
       "      <td>8.00</td>\n",
       "      <td>1</td>\n",
       "      <td>0.72</td>\n",
       "    </tr>\n",
       "    <tr>\n",
       "      <th>4</th>\n",
       "      <td>322</td>\n",
       "      <td>110</td>\n",
       "      <td>3</td>\n",
       "      <td>3.5</td>\n",
       "      <td>2.5</td>\n",
       "      <td>8.67</td>\n",
       "      <td>1</td>\n",
       "      <td>0.80</td>\n",
       "    </tr>\n",
       "    <tr>\n",
       "      <th>5</th>\n",
       "      <td>314</td>\n",
       "      <td>103</td>\n",
       "      <td>2</td>\n",
       "      <td>2.0</td>\n",
       "      <td>3.0</td>\n",
       "      <td>8.21</td>\n",
       "      <td>0</td>\n",
       "      <td>0.65</td>\n",
       "    </tr>\n",
       "    <tr>\n",
       "      <th>6</th>\n",
       "      <td>330</td>\n",
       "      <td>115</td>\n",
       "      <td>5</td>\n",
       "      <td>4.5</td>\n",
       "      <td>3.0</td>\n",
       "      <td>9.34</td>\n",
       "      <td>1</td>\n",
       "      <td>0.90</td>\n",
       "    </tr>\n",
       "    <tr>\n",
       "      <th>7</th>\n",
       "      <td>321</td>\n",
       "      <td>109</td>\n",
       "      <td>3</td>\n",
       "      <td>3.0</td>\n",
       "      <td>4.0</td>\n",
       "      <td>8.20</td>\n",
       "      <td>1</td>\n",
       "      <td>0.75</td>\n",
       "    </tr>\n",
       "    <tr>\n",
       "      <th>8</th>\n",
       "      <td>308</td>\n",
       "      <td>101</td>\n",
       "      <td>2</td>\n",
       "      <td>3.0</td>\n",
       "      <td>4.0</td>\n",
       "      <td>7.90</td>\n",
       "      <td>0</td>\n",
       "      <td>0.68</td>\n",
       "    </tr>\n",
       "    <tr>\n",
       "      <th>9</th>\n",
       "      <td>302</td>\n",
       "      <td>102</td>\n",
       "      <td>1</td>\n",
       "      <td>2.0</td>\n",
       "      <td>1.5</td>\n",
       "      <td>8.00</td>\n",
       "      <td>0</td>\n",
       "      <td>0.50</td>\n",
       "    </tr>\n",
       "    <tr>\n",
       "      <th>10</th>\n",
       "      <td>323</td>\n",
       "      <td>108</td>\n",
       "      <td>3</td>\n",
       "      <td>3.5</td>\n",
       "      <td>3.0</td>\n",
       "      <td>8.60</td>\n",
       "      <td>0</td>\n",
       "      <td>0.45</td>\n",
       "    </tr>\n",
       "  </tbody>\n",
       "</table>\n",
       "</div>"
      ],
      "text/plain": [
       "            GRE_Score  TOEFL_Score  University_Rating  SOP  LOR   CGPA  \\\n",
       "Serial No.                                                               \n",
       "1                 337          118                  4  4.5   4.5  9.65   \n",
       "2                 324          107                  4  4.0   4.5  8.87   \n",
       "3                 316          104                  3  3.0   3.5  8.00   \n",
       "4                 322          110                  3  3.5   2.5  8.67   \n",
       "5                 314          103                  2  2.0   3.0  8.21   \n",
       "6                 330          115                  5  4.5   3.0  9.34   \n",
       "7                 321          109                  3  3.0   4.0  8.20   \n",
       "8                 308          101                  2  3.0   4.0  7.90   \n",
       "9                 302          102                  1  2.0   1.5  8.00   \n",
       "10                323          108                  3  3.5   3.0  8.60   \n",
       "\n",
       "            Research  Chance_of_Admit  \n",
       "Serial No.                             \n",
       "1                  1             0.92  \n",
       "2                  1             0.76  \n",
       "3                  1             0.72  \n",
       "4                  1             0.80  \n",
       "5                  0             0.65  \n",
       "6                  1             0.90  \n",
       "7                  1             0.75  \n",
       "8                  0             0.68  \n",
       "9                  0             0.50  \n",
       "10                 0             0.45  "
      ]
     },
     "execution_count": 4,
     "metadata": {},
     "output_type": "execute_result"
    }
   ],
   "source": [
    "df[:10]"
   ]
  },
  {
   "cell_type": "code",
   "execution_count": 5,
   "metadata": {
    "id": "S3TfR0i4G2rO"
   },
   "outputs": [],
   "source": [
    "y = df['Chance_of_Admit'] # The column named Chance_of_Admit is used as the target, and we store it in y\n",
    "X = df.drop(['Chance_of_Admit'], axis=1) # We keep the remaining columns as the features, and store them in x"
   ]
  },
  {
   "cell_type": "markdown",
   "metadata": {
    "id": "pKq1KERxJw9y"
   },
   "source": [
    "1)(**2 pts**) Split the data into a training set(75% of data) and a test set(25% of data), using the [train_test_split](https://scikit-learn.org/stable/modules/generated/sklearn.model_selection.train_test_split.html) function with random_state = 50. Then scale the data (not including target) so that each of the independent variables would have zero mean and unit variance. You can use the [sklearn.preprocessing.scale](https://scikit-learn.org/stable/modules/generated/sklearn.preprocessing.scale.html) function for this. Print the first 5 rows of the training set after scaling.\n",
    "\n",
    "2)(**5 pts**) Use [sklearn.linear_model.Lasso](https://scikit-learn.org/stable/modules/generated/sklearn.linear_model.Lasso.html) and [sklearn.linear_model.Ridge](https://scikit-learn.org/stable/modules/generated/sklearn.linear_model.Ridge.html) classes to do a **5-fold** cross validation using sklearn's KFold. For the sweep of the regularization parameter, we will look at a grid of values ranging from α=10^10 to α=10^−6. In Python, you can consider this range of values as follows: alpha = 10**numpy.linspace(6,-6,100) \n",
    "so that you can generate 100 uniform values between -6 to 6 as power series.\n",
    "\n",
    "Fit the 2 regression models with scaled data and report the best chosen **α** based on cross validation as well as the corresponding scoring metric. The cross validation should happen on your training data using **MSE** as the scoring metric.\n",
    "\n",
    "3)(**5 pts**) Run ridge and lasso regression for all of the **α** specified above (on training data), and plot the coefficients learned for each of them - there should be one plot each for lasso and ridge, so a total of two plots; different features' weights of each model should be on the same plot with different colors (3pts). \n",
    "\n",
    "What do you qualitatively observe when the value of the regularization parameter changes (2pts)? \n",
    "\n",
    "4)(**3 pts**) Take the exponential of Y_train as the target, and fit the 2 regression models again. Report the best chosen **α** based on cross validation as well as the corresponding scoring metric. Compare the results of using the original target with the results of using the exponential of the target. What do you observe? \n",
    "\n",
    "5)(**5 pts**) Similarly, use [sklearn.linear_model.ElasticNet](https://scikit-learn.org/stable/modules/generated/sklearn.linear_model.ElasticNet.html) to do linear regression with different **α** values, and plot the coefficients learned for each of them (2pts). Observe the plot, then explain the pros and cons of ridge, lasso and Elastic Net models (3pts).\n",
    "\n",
    "\n",
    "6)(**5 pts**) Run the following three regression models with **MSE** loss on the training data: \n",
    "\n",
    "a. linear regression without regularization (1pts)\n",
    "\n",
    "b. linear regression with ridge regularization (2pts)\n",
    "\n",
    "c. linear regression with lasso regularization (2pts)\n",
    "\n",
    "For part (b) and (c), use only the best regularization parameters. Report the MSE and R<sup>2</sup> on the test data for each model.\n",
    "\n",
    "7)(**5 pts**) Train the 3 models and report the metrics with the original data without scaling (3pts). \n",
    "\n",
    "Why do we need to scale the data before regularization (2pts)? \n",
    "\n",
    "## Answer:\n"
   ]
  },
  {
   "cell_type": "code",
   "execution_count": 6,
   "metadata": {},
   "outputs": [
    {
     "name": "stdout",
     "output_type": "stream",
     "text": [
      "Populating the interactive namespace from numpy and matplotlib\n"
     ]
    },
    {
     "name": "stderr",
     "output_type": "stream",
     "text": [
      "C:\\Users\\chand\\Anaconda3\\lib\\site-packages\\IPython\\core\\magics\\pylab.py:159: UserWarning: pylab import has clobbered these variables: ['random']\n",
      "`%matplotlib` prevents importing * from pylab and numpy\n",
      "  warn(\"pylab import has clobbered these variables: %s\"  % clobbered +\n"
     ]
    }
   ],
   "source": [
    "from patsy import dmatrices\n",
    "%pylab inline\n",
    "from sklearn.model_selection import train_test_split\n",
    "import sklearn\n",
    "\n",
    "\n",
    "\n",
    "#formula =('Chance_of_Admit ~ 0 + GRE_Score + TOEFL_Score+ University_Rating + SOP + CGPA + Research+ LOR ')\n",
    "#Y, X = dmatrices(formula,df,return_type = 'dataframe')\n",
    "\n",
    "X_train, X_test, y_train, y_test = train_test_split(X,y, test_size = 0.25, random_state=50)\n",
    "\n",
    "X_train_scaled = sklearn.preprocessing.scale(X_train,axis = 0, with_std = True)\n",
    "X_test_scaled = sklearn.preprocessing.scale(X_test,axis = 0, with_std = True)\n",
    "\n"
   ]
  },
  {
   "cell_type": "code",
   "execution_count": null,
   "metadata": {},
   "outputs": [],
   "source": []
  },
  {
   "cell_type": "code",
   "execution_count": 7,
   "metadata": {},
   "outputs": [
    {
     "data": {
      "text/plain": [
       "array([[ 1.52725374,  2.0917706 ,  1.61594354,  0.63150829,  1.72829095,\n",
       "         2.11370277,  0.90453403],\n",
       "       [ 0.74180896,  0.46308859, -0.9310778 , -0.35266047, -1.04140609,\n",
       "         0.29488827,  0.90453403],\n",
       "       [ 0.56726568,  0.13735218,  1.61594354,  0.63150829,  0.62041214,\n",
       "         0.26211684,  0.90453403],\n",
       "       [-0.39272239, -0.51412062, -0.08207069,  0.13942391,  0.62041214,\n",
       "        -0.80295471, -1.1055416 ],\n",
       "       [ 0.47999403,  0.78882499,  0.76693642,  1.12359267,  1.17435154,\n",
       "         1.11417408,  0.90453403]])"
      ]
     },
     "execution_count": 7,
     "metadata": {},
     "output_type": "execute_result"
    }
   ],
   "source": [
    "\n",
    "## scaled training\n",
    "X_train_scaled[:5]"
   ]
  },
  {
   "cell_type": "code",
   "execution_count": 78,
   "metadata": {},
   "outputs": [],
   "source": [
    "cv= KFold(n_splits=5, random_state=50, shuffle= True)\n",
    "model = Ridge(alpha=.1)"
   ]
  },
  {
   "cell_type": "code",
   "execution_count": 76,
   "metadata": {},
   "outputs": [
    {
     "data": {
      "text/plain": [
       "Ridge(alpha=0.1)"
      ]
     },
     "execution_count": 76,
     "metadata": {},
     "output_type": "execute_result"
    }
   ],
   "source": [
    "from sklearn.linear_model import Ridge\n",
    "import numpy as np\n",
    "from sklearn.linear_model import RidgeClassifierCV\n",
    "from sklearn.model_selection import KFold\n",
    "from sklearn.model_selection import cross_val_score\n",
    "\n",
    "### Ridge Regression\n",
    "clf = Ridge(alpha=.1)\n",
    "clf.fit(X_train_scaled, y_train)\n"
   ]
  },
  {
   "cell_type": "code",
   "execution_count": null,
   "metadata": {},
   "outputs": [],
   "source": []
  },
  {
   "cell_type": "code",
   "execution_count": 88,
   "metadata": {},
   "outputs": [
    {
     "data": {
      "text/plain": [
       "array([0.00359764, 0.0045903 , 0.0053636 , 0.0029506 , 0.00355246])"
      ]
     },
     "execution_count": 88,
     "metadata": {},
     "output_type": "execute_result"
    }
   ],
   "source": [
    "from sklearn.metrics import make_scorer\n",
    "clf = Ridge(alpha=.1)\n",
    "clf.fit(X_train_scaled, y_train)\n",
    "score = cross_val_score(model, X_train_scaled, y_train, scoring = make_scorer(mean_squared_error), cv=cv)\n",
    "score"
   ]
  },
  {
   "cell_type": "code",
   "execution_count": 9,
   "metadata": {},
   "outputs": [],
   "source": [
    "residuals = (clf.predict(X_test_scaled)-y_test)**2"
   ]
  },
  {
   "cell_type": "code",
   "execution_count": 10,
   "metadata": {},
   "outputs": [
    {
     "data": {
      "text/plain": [
       "0.5198895484802716"
      ]
     },
     "execution_count": 10,
     "metadata": {},
     "output_type": "execute_result"
    }
   ],
   "source": [
    "MSE = residuals.sum()\n",
    "MSE"
   ]
  },
  {
   "cell_type": "code",
   "execution_count": 11,
   "metadata": {},
   "outputs": [],
   "source": [
    "linspace=10**np.linspace(6,-6,100)"
   ]
  },
  {
   "cell_type": "code",
   "execution_count": 94,
   "metadata": {},
   "outputs": [
    {
     "name": "stdout",
     "output_type": "stream",
     "text": [
      "{1000000.0: array([0.02103589, 0.02159575, 0.01955852, 0.02405097, 0.02104914]), 756463.3275546291: array([0.02103589, 0.02159575, 0.01955852, 0.02405097, 0.02104914]), 572236.765935022: array([0.02103589, 0.02159575, 0.01955852, 0.02405097, 0.02104914]), 432876.12810830615: array([0.02103589, 0.02159575, 0.01955852, 0.02405097, 0.02104914]), 327454.9162877732: array([0.02103589, 0.02159575, 0.01955852, 0.02405097, 0.02104914]), 247707.6355991709: array([0.02103589, 0.02159575, 0.01955852, 0.02405097, 0.02104914]), 187381.7422860383: array([0.02103589, 0.02159575, 0.01955852, 0.02405097, 0.02104914]), 141747.4162926805: array([0.02103589, 0.02159575, 0.01955852, 0.02405097, 0.02104914]), 107226.72220103232: array([0.02103589, 0.02159575, 0.01955852, 0.02405097, 0.02104914]), 81113.08307896872: array([0.02103589, 0.02159575, 0.01955852, 0.02405097, 0.02104914]), 61359.072734131754: array([0.02103589, 0.02159575, 0.01955852, 0.02405097, 0.02104914]), 46415.888336127726: array([0.02103589, 0.02159575, 0.01955852, 0.02405097, 0.02104914]), 35111.917342151275: array([0.02103589, 0.02159575, 0.01955852, 0.02405097, 0.02104914]), 26560.87782946684: array([0.02103589, 0.02159575, 0.01955852, 0.02405097, 0.02104914]), 20092.33002565046: array([0.02103589, 0.02159575, 0.01955852, 0.02405097, 0.02104914]), 15199.11082952933: array([0.02103589, 0.02159575, 0.01955852, 0.02405097, 0.02104914]), 11497.569953977356: array([0.02103589, 0.02159575, 0.01955852, 0.02405097, 0.02104914]), 8697.490026177835: array([0.02103589, 0.02159575, 0.01955852, 0.02405097, 0.02104914]), 6579.332246575683: array([0.02103589, 0.02159575, 0.01955852, 0.02405097, 0.02104914]), 4977.023564332108: array([0.02103589, 0.02159575, 0.01955852, 0.02405097, 0.02104914]), 3764.9358067924672: array([0.02103589, 0.02159575, 0.01955852, 0.02405097, 0.02104914]), 2848.035868435802: array([0.02103589, 0.02159575, 0.01955852, 0.02405097, 0.02104914]), 2154.4346900318824: array([0.02103589, 0.02159575, 0.01955852, 0.02405097, 0.02104914]), 1629.7508346206434: array([0.02103589, 0.02159575, 0.01955852, 0.02405097, 0.02104914]), 1232.8467394420659: array([0.02103589, 0.02159575, 0.01955852, 0.02405097, 0.02104914]), 932.60334688322: array([0.02103589, 0.02159575, 0.01955852, 0.02405097, 0.02104914]), 705.4802310718645: array([0.02103589, 0.02159575, 0.01955852, 0.02405097, 0.02104914]), 533.6699231206308: array([0.02103589, 0.02159575, 0.01955852, 0.02405097, 0.02104914]), 403.70172585965537: array([0.02103589, 0.02159575, 0.01955852, 0.02405097, 0.02104914]), 305.3855508833416: array([0.02103589, 0.02159575, 0.01955852, 0.02405097, 0.02104914]), 231.01297000831582: array([0.02103589, 0.02159575, 0.01955852, 0.02405097, 0.02104914]), 174.7528400007683: array([0.02103589, 0.02159575, 0.01955852, 0.02405097, 0.02104914]), 132.19411484660287: array([0.02103589, 0.02159575, 0.01955852, 0.02405097, 0.02104914]), 100.0: array([0.02103589, 0.02159575, 0.01955852, 0.02405097, 0.02104914]), 75.64633275546291: array([0.02103589, 0.02159575, 0.01955852, 0.02405097, 0.02104914]), 57.223676593502205: array([0.02103589, 0.02159575, 0.01955852, 0.02405097, 0.02104914]), 43.287612810830616: array([0.02103589, 0.02159575, 0.01955852, 0.02405097, 0.02104914]), 32.74549162877725: array([0.02103589, 0.02159575, 0.01955852, 0.02405097, 0.02104914]), 24.77076355991709: array([0.02103589, 0.02159575, 0.01955852, 0.02405097, 0.02104914]), 18.73817422860383: array([0.02103589, 0.02159575, 0.01955852, 0.02405097, 0.02104914]), 14.174741629268048: array([0.02103589, 0.02159575, 0.01955852, 0.02405097, 0.02104914]), 10.722672220103231: array([0.02103589, 0.02159575, 0.01955852, 0.02405097, 0.02104914]), 8.111308307896872: array([0.02103589, 0.02159575, 0.01955852, 0.02405097, 0.02104914]), 6.135907273413176: array([0.02103589, 0.02159575, 0.01955852, 0.02405097, 0.02104914]), 4.641588833612772: array([0.02103589, 0.02159575, 0.01955852, 0.02405097, 0.02104914]), 3.5111917342151275: array([0.02103589, 0.02159575, 0.01955852, 0.02405097, 0.02104914]), 2.656087782946684: array([0.02103589, 0.02159575, 0.01955852, 0.02405097, 0.02104914]), 2.009233002565046: array([0.02103589, 0.02159575, 0.01955852, 0.02405097, 0.02104914]), 1.5199110829529332: array([0.02103589, 0.02159575, 0.01955852, 0.02405097, 0.02104914]), 1.1497569953977356: array([0.02103589, 0.02159575, 0.01955852, 0.02405097, 0.02104914]), 0.8697490026177834: array([0.02103589, 0.02159575, 0.01955852, 0.02405097, 0.02104914]), 0.6579332246575682: array([0.02103589, 0.02159575, 0.01955852, 0.02405097, 0.02104914]), 0.49770235643321137: array([0.02103589, 0.02159575, 0.01955852, 0.02405097, 0.02104914]), 0.3764935806792464: array([0.02103589, 0.02159575, 0.01955852, 0.02405097, 0.02104914]), 0.2848035868435799: array([0.02103589, 0.02159575, 0.01955852, 0.02405097, 0.02104914]), 0.21544346900318823: array([0.02103589, 0.02159575, 0.01955852, 0.02405097, 0.02104914]), 0.16297508346206435: array([0.02103589, 0.02159575, 0.01955852, 0.02405097, 0.02104914]), 0.12328467394420659: array([0.01915753, 0.02016642, 0.01738975, 0.02405097, 0.01956453]), 0.093260334688322: array([0.01327195, 0.01347213, 0.01208882, 0.01550411, 0.0129907 ]), 0.07054802310718646: array([0.0098282 , 0.0097614 , 0.00911207, 0.01046857, 0.0092698 ]), 0.053366992312063016: array([0.00770593, 0.00772876, 0.007441  , 0.00740798, 0.00709174]), 0.040370172585965494: array([0.00635052, 0.00638074, 0.00652316, 0.00563654, 0.00573592]), 0.030538555088334123: array([0.005455  , 0.00555021, 0.00594999, 0.00450319, 0.00493185]), 0.02310129700083158: array([0.00482164, 0.0050778 , 0.00564676, 0.00384661, 0.00435221]), 0.017475284000076828: array([0.00444534, 0.00481754, 0.005492  , 0.00346538, 0.00402305]), 0.013219411484660288: array([0.00417604, 0.00467952, 0.00541762, 0.00324268, 0.0038367 ]), 0.01: array([0.00400292, 0.00461129, 0.00538577, 0.00311395, 0.00372022]), 0.007564633275546291: array([0.00387899, 0.00457906, 0.00537245, 0.00304045, 0.00364945]), 0.00572236765935022: array([0.00379035, 0.00456639, 0.00535762, 0.00299852, 0.00360967]), 0.004328761281083062: array([0.00373084, 0.00456339, 0.00534103, 0.00297468, 0.00358741]), 0.0032745491628777316: array([0.0036913 , 0.00456504, 0.005332  , 0.00296108, 0.00357507]), 0.002477076355991714: array([0.0036645 , 0.00456847, 0.00532711, 0.00295336, 0.00356825]), 0.0018738174228603867: array([0.00364601, 0.0045722 , 0.00532461, 0.00294897, 0.0035638 ]), 0.0014174741629268018: array([0.00363305, 0.00457584, 0.00532338, 0.0029465 , 0.00356029]), 0.001072267222010321: array([0.00362382, 0.00457901, 0.00532283, 0.00294511, 0.00355806]), 0.0008111308307896856: array([0.00361717, 0.00458164, 0.00532263, 0.00294433, 0.00355666]), 0.0006135907273413163: array([0.00361234, 0.00458377, 0.00532261, 0.0029439 , 0.00355577]), 0.00046415888336127724: array([0.00360879, 0.00458545, 0.00532849, 0.00294366, 0.00355519]), 0.0003511191734215127: array([0.00360616, 0.00458677, 0.00533652, 0.00294353, 0.00355481]), 0.0002656087782946684: array([0.00360422, 0.00458779, 0.0053428 , 0.00294347, 0.00355456]), 0.0002009233002565046: array([0.00360276, 0.00458845, 0.00534766, 0.0029435 , 0.00355442]), 0.0001519911082952933: array([0.00360167, 0.00458905, 0.00535145, 0.0029439 , 0.00355431]), 0.00011497569953977356: array([0.00360081, 0.00458941, 0.00535436, 0.00294525, 0.00355423]), 8.697490026177834e-05: array([0.00360018, 0.00458969, 0.00535658, 0.00294632, 0.00355417]), 6.579332246575683e-05: array([0.0035997 , 0.00458991, 0.00535828, 0.0029471 , 0.00355411]), 4.977023564332114e-05: array([0.00359934, 0.00459007, 0.00535957, 0.0029477 , 0.00355406]), 3.7649358067924715e-05: array([0.00359908, 0.00459022, 0.00536057, 0.00294815, 0.00355403]), 2.8480358684358048e-05: array([0.00359887, 0.00459034, 0.00536132, 0.00294849, 0.00355399]), 2.154434690031878e-05: array([0.00359871, 0.00459044, 0.00536188, 0.00294875, 0.00355397]), 1.62975083462064e-05: array([0.0035986 , 0.0045905 , 0.00536231, 0.00294894, 0.00355396]), 1.2328467394420633e-05: array([0.0035985 , 0.00459056, 0.00536262, 0.00294909, 0.00355394]), 9.32603346883218e-06: array([0.00359843, 0.0045906 , 0.00536287, 0.0029492 , 0.00355394]), 7.054802310718631e-06: array([0.00359839, 0.00459063, 0.00536305, 0.00294929, 0.00355393]), 5.336699231206302e-06: array([0.00359834, 0.00459065, 0.00536319, 0.00294935, 0.00355393]), 4.037017258596549e-06: array([0.00359832, 0.00459067, 0.0053633 , 0.0029494 , 0.00355392]), 3.0538555088334123e-06: array([0.0035983 , 0.00459068, 0.00536338, 0.00294944, 0.00355392]), 2.310129700083158e-06: array([0.00359828, 0.00459069, 0.00536344, 0.00294946, 0.00355392]), 1.747528400007683e-06: array([0.00359826, 0.0045907 , 0.00536348, 0.00294948, 0.00355392]), 1.3219411484660288e-06: array([0.00359825, 0.00459071, 0.00536352, 0.0029495 , 0.00355392]), 1e-06: array([0.00359825, 0.00459071, 0.00536354, 0.00294951, 0.00355392])}\n"
     ]
    }
   ],
   "source": [
    "from sklearn.linear_model import Lasso\n",
    "my_dict={ }\n",
    "for a in linspace:\n",
    "    clf = Lasso(alpha=a)\n",
    "    clf.fit(X_train_scaled, y_train)\n",
    "    score = cross_val_score(clf, X_train_scaled, y_train, scoring = make_scorer(mean_squared_error), cv=cv)\n",
    "    my_dict[a] = score\n",
    "    \n",
    "print(my_dict)\n",
    "\n",
    "\n",
    "    \n",
    "    "
   ]
  },
  {
   "cell_type": "code",
   "execution_count": 13,
   "metadata": {},
   "outputs": [],
   "source": [
    "MSE_min =min(my_dict.keys())"
   ]
  },
  {
   "cell_type": "code",
   "execution_count": 14,
   "metadata": {},
   "outputs": [
    {
     "name": "stdout",
     "output_type": "stream",
     "text": [
      "Alpha = 0.017475284000076828\n",
      "MSE = 0.5050214280911591\n"
     ]
    }
   ],
   "source": [
    "alpha=my_dict[MSE_min]\n",
    "print('Alpha = '+ str(alpha))\n",
    "print('MSE = '+ str(MSE_min))"
   ]
  },
  {
   "cell_type": "code",
   "execution_count": 15,
   "metadata": {},
   "outputs": [
    {
     "name": "stdout",
     "output_type": "stream",
     "text": [
      "Alpha = 231.01297000831582\n",
      "MSE = 0.4752600552999041\n"
     ]
    }
   ],
   "source": [
    "#### Lasso Regression\n",
    "clf = Ridge(alpha=.1)\n",
    "clf.fit(X_train_scaled, y_train)\n",
    "\n",
    "residuals = (clf.predict(X_test_scaled)-y_test)**2\n",
    "\n",
    "MSE = residuals.sum()\n",
    "\n",
    "linspace=10**np.linspace(6,-6,100)\n",
    "\n",
    "my_dict1={ }\n",
    "for a in linspace:\n",
    "    clf = Ridge(alpha=a)\n",
    "    clf.fit(X_train_scaled, y_train)\n",
    "    residuals = (clf.predict(X_test_scaled)-y_test)**2\n",
    "    MSE = residuals.sum()\n",
    "    my_dict1[MSE] = a\n",
    "    \n",
    "#print(my_list)\n",
    "\n",
    "MSE_min2 =min(my_dict1.keys())\n",
    " \n",
    "\n",
    "alpha2=my_dict1[MSE_min2]\n",
    "print('Alpha = '+ str(alpha2))\n",
    "print('MSE = '+ str(MSE_min2))"
   ]
  },
  {
   "cell_type": "code",
   "execution_count": 16,
   "metadata": {},
   "outputs": [
    {
     "data": {
      "text/plain": [
       "False"
      ]
     },
     "execution_count": 16,
     "metadata": {},
     "output_type": "execute_result"
    }
   ],
   "source": [
    "MSE_min == MSE_min2"
   ]
  },
  {
   "cell_type": "code",
   "execution_count": 17,
   "metadata": {},
   "outputs": [
    {
     "data": {
      "text/plain": [
       "False"
      ]
     },
     "execution_count": 17,
     "metadata": {},
     "output_type": "execute_result"
    }
   ],
   "source": [
    "alpha2 == alpha"
   ]
  },
  {
   "cell_type": "code",
   "execution_count": 18,
   "metadata": {},
   "outputs": [
    {
     "data": {
      "text/plain": [
       "False"
      ]
     },
     "execution_count": 18,
     "metadata": {},
     "output_type": "execute_result"
    }
   ],
   "source": [
    "my_dict1 == my_dict"
   ]
  },
  {
   "cell_type": "code",
   "execution_count": null,
   "metadata": {},
   "outputs": [],
   "source": []
  },
  {
   "cell_type": "code",
   "execution_count": 69,
   "metadata": {},
   "outputs": [
    {
     "data": {
      "text/plain": [
       "Serial No.\n",
       "204    0.97\n",
       "265    0.75\n",
       "339    0.81\n",
       "262    0.71\n",
       "217    0.91\n",
       "       ... \n",
       "133    0.71\n",
       "290    0.79\n",
       "110    0.68\n",
       "396    0.82\n",
       "177    0.90\n",
       "Name: Chance_of_Admit, Length: 300, dtype: float64"
      ]
     },
     "execution_count": 69,
     "metadata": {},
     "output_type": "execute_result"
    }
   ],
   "source": [
    "##### 3\n",
    "## Ridge\n",
    "my_list=[]\n",
    "alphas = linspace=10**np.linspace(6,-6,100)\n",
    "for a in linspace:\n",
    "    clf = Ridge(alpha=a)\n",
    "    clf.fit(X_train_scaled, y_train)\n",
    "    clf.predict(X_test_scaled)\n",
    "    my_list.append(clf.coef_)\n",
    "    \n",
    "#print(my_list)"
   ]
  },
  {
   "cell_type": "code",
   "execution_count": 56,
   "metadata": {},
   "outputs": [],
   "source": [
    "import matplotlib.pyplot as plt"
   ]
  },
  {
   "cell_type": "code",
   "execution_count": 72,
   "metadata": {},
   "outputs": [
    {
     "data": {
      "image/png": "[encoded data removed]",
      "text/plain": [
       "<Figure size 432x288 with 1 Axes>"
      ]
     },
     "metadata": {
      "needs_background": "light"
     },
     "output_type": "display_data"
    }
   ],
   "source": [
    "ax = plt.gca()\n",
    "\n",
    "ax.plot(alphas, my_list)\n",
    "ax.set_xscale('log')\n",
    "ax.set_xlim(ax.get_xlim()[::-1])  # reverse axis\n",
    "plt.xlabel('alpha')\n",
    "plt.ylabel('weights')\n",
    "plt.title('Ridge coefficients as a function of the regularization')\n",
    "plt.axis('tight')\n",
    "plt.legend(X_train.columns, loc='best')\n",
    "plt.show()\n",
    "\n"
   ]
  },
  {
   "cell_type": "code",
   "execution_count": 73,
   "metadata": {},
   "outputs": [],
   "source": [
    "\n",
    "## Lasso\n",
    "my_list2=[]\n",
    "alphas = linspace=10**np.linspace(6,-6,100)\n",
    "for a in linspace:\n",
    "    clf = Lasso(alpha=a)\n",
    "    clf.fit(X_train_scaled, y_train)\n",
    "    clf.predict(X_test_scaled)\n",
    "    my_list2.append(clf.coef_)\n",
    "    \n",
    "#print(my_list2)\n"
   ]
  },
  {
   "cell_type": "code",
   "execution_count": 74,
   "metadata": {},
   "outputs": [
    {
     "data": {
      "image/png": "[encoded data removed]",
      "text/plain": [
       "<Figure size 432x288 with 1 Axes>"
      ]
     },
     "metadata": {
      "needs_background": "light"
     },
     "output_type": "display_data"
    }
   ],
   "source": [
    "ax = plt.gca()\n",
    "\n",
    "ax.plot(alphas, my_list2)\n",
    "ax.set_xscale('log')\n",
    "ax.set_xlim(ax.get_xlim()[::-1])  # reverse axis\n",
    "plt.xlabel('alpha')\n",
    "plt.ylabel('weights')\n",
    "plt.title('Ridge coefficients as a function of the regularization')\n",
    "plt.axis('tight')\n",
    "plt.legend(X_train.columns, loc='best')\n",
    "plt.show()"
   ]
  },
  {
   "cell_type": "code",
   "execution_count": null,
   "metadata": {},
   "outputs": [],
   "source": []
  },
  {
   "cell_type": "code",
   "execution_count": null,
   "metadata": {},
   "outputs": [],
   "source": []
  }
 ],
 "metadata": {
  "colab": {
   "collapsed_sections": [],
   "name": "MIS 382N - HW1.ipynb",
   "provenance": []
  },
  "kernelspec": {
   "display_name": "Python 3",
   "language": "python",
   "name": "python3"
  },
  "language_info": {
   "codemirror_mode": {
    "name": "ipython",
    "version": 3
   },
   "file_extension": ".py",
   "mimetype": "text/x-python",
   "name": "python",
   "nbconvert_exporter": "python",
   "pygments_lexer": "ipython3",
   "version": "3.8.8"
  }
 },
 "nbformat": 4,
 "nbformat_minor": 1
}
